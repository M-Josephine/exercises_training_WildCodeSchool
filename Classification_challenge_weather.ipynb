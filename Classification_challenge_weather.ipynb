{
  "nbformat": 4,
  "nbformat_minor": 0,
  "metadata": {
    "colab": {
      "name": "Classification challenge : weather.ipynb",
      "provenance": [],
      "collapsed_sections": []
    },
    "kernelspec": {
      "name": "python3",
      "display_name": "Python 3"
    }
  },
  "cells": [
    {
      "cell_type": "markdown",
      "metadata": {
        "id": "9HtcxSkZvNHc"
      },
      "source": [
        "# Importing the dataset and the libraries"
      ]
    },
    {
      "cell_type": "code",
      "metadata": {
        "id": "70rqo_6SvAXJ",
        "colab": {
          "base_uri": "https://localhost:8080/"
        },
        "outputId": "bd265166-2748-4b9d-eb81-201af2c7c5fc"
      },
      "source": [
        "import pandas as pd\n",
        "import numpy as np\n",
        "link_main = \"https://raw.githubusercontent.com/murpi/wilddata/master/quests/weather_main_2018.csv\"\n",
        "link_opinion = \"https://raw.githubusercontent.com/murpi/wilddata/master/quests/weather_opinion_2018.csv\"\n",
        "df_main = pd.read_csv(link_main)\n",
        "df_opinion = pd.read_csv(link_opinion)\n",
        "print(df_main.head())\n",
        "print(df_opinion.head())"
      ],
      "execution_count": null,
      "outputs": [
        {
          "output_type": "stream",
          "text": [
            "         DATE  MAX_TEMPERATURE_C  ...  DEWPOINT_MAX_C  WINDTEMP_MAX_C\n",
            "0  2018-01-01                 12  ...               8               7\n",
            "1  2018-01-02                 13  ...              12               6\n",
            "2  2018-01-03                 15  ...              13               7\n",
            "3  2018-01-04                 14  ...              12              10\n",
            "4  2018-01-05                 12  ...              10               7\n",
            "\n",
            "[5 rows x 15 columns]\n",
            "         date  WEATHER_CODE_EVENING  TOTAL_SNOW_MM  UV_INDEX  SUNHOUR OPINION\n",
            "0  2018-01-01                   113              0         3      5.1     bad\n",
            "1  2018-03-12                   119              0         2      8.8     bad\n",
            "2  2018-03-09                   116              0         3     10.2     bad\n",
            "3  2018-10-07                   122              0         1      5.6     bad\n",
            "4  2018-06-18                   119              0         1     12.9     bad\n"
          ],
          "name": "stdout"
        }
      ]
    },
    {
      "cell_type": "code",
      "metadata": {
        "id": "p-VSSy7sq8Tv"
      },
      "source": [
        "import seaborn as sns\n",
        "import matplotlib.pyplot as plt\n",
        "from sklearn.model_selection import train_test_split\n",
        "from sklearn.linear_model import LogisticRegression\n",
        "from sklearn.metrics import confusion_matrix\n",
        "from sklearn.metrics import classification_report\n",
        "from sklearn.preprocessing import StandardScaler\n",
        "from sklearn.neighbors import KNeighborsClassifier\n",
        "from sklearn.metrics import accuracy_score\n",
        "from sklearn.tree import DecisionTreeClassifier\n",
        "from sklearn.tree import plot_tree"
      ],
      "execution_count": null,
      "outputs": []
    },
    {
      "cell_type": "markdown",
      "metadata": {
        "id": "gQcAnwxVvP8r"
      },
      "source": [
        "# Classification challenge\n",
        "\n",
        "Your goal are :\n",
        "- to merge both 2018 DataFrames\n",
        "- to train-test split the new 2018 DataFrame\n",
        "- to train 3 differents Machine Learning algorithms (KNN, logistic regression and decision tree) with \"opinion\" as target\n",
        "- to try different parameters\n",
        "- to find the best accuracy score (on the test set of course)\n",
        "- to fill the missing values in the \"opinion\" columns whith your best model\n",
        "- to explain what is the \"rules\" used by your model to predict the opinion.\n",
        "\n",
        "You can help yourself with charts if you want."
      ]
    },
    {
      "cell_type": "markdown",
      "metadata": {
        "id": "kcWUHKTSke0X"
      },
      "source": [
        "# Merging both 2018 DataFrames"
      ]
    },
    {
      "cell_type": "code",
      "metadata": {
        "id": "hzs6xUxewLpN",
        "colab": {
          "base_uri": "https://localhost:8080/"
        },
        "outputId": "fe5eea5e-e222-44b9-ac43-76fb1914f574"
      },
      "source": [
        "print(df_main.shape)\n",
        "print(df_opinion.shape)"
      ],
      "execution_count": null,
      "outputs": [
        {
          "output_type": "stream",
          "text": [
            "(365, 15)\n",
            "(341, 6)\n"
          ],
          "name": "stdout"
        }
      ]
    },
    {
      "cell_type": "code",
      "metadata": {
        "id": "_9kIke2Ajifb",
        "colab": {
          "base_uri": "https://localhost:8080/",
          "height": 299
        },
        "outputId": "5598a20b-9a41-4a48-82f4-045088a3972b"
      },
      "source": [
        "df = pd.merge(df_main,df_opinion, how = 'left', left_on = 'DATE', right_on = 'date')\n",
        "df.head()"
      ],
      "execution_count": null,
      "outputs": [
        {
          "output_type": "execute_result",
          "data": {
            "text/html": [
              "<div>\n",
              "<style scoped>\n",
              "    .dataframe tbody tr th:only-of-type {\n",
              "        vertical-align: middle;\n",
              "    }\n",
              "\n",
              "    .dataframe tbody tr th {\n",
              "        vertical-align: top;\n",
              "    }\n",
              "\n",
              "    .dataframe thead th {\n",
              "        text-align: right;\n",
              "    }\n",
              "</style>\n",
              "<table border=\"1\" class=\"dataframe\">\n",
              "  <thead>\n",
              "    <tr style=\"text-align: right;\">\n",
              "      <th></th>\n",
              "      <th>DATE</th>\n",
              "      <th>MAX_TEMPERATURE_C</th>\n",
              "      <th>MIN_TEMPERATURE_C</th>\n",
              "      <th>WINDSPEED_MAX_KMH</th>\n",
              "      <th>TEMPERATURE_MORNING_C</th>\n",
              "      <th>TEMPERATURE_NOON_C</th>\n",
              "      <th>TEMPERATURE_EVENING_C</th>\n",
              "      <th>PRECIP_TOTAL_DAY_MM</th>\n",
              "      <th>HUMIDITY_MAX_PERCENT</th>\n",
              "      <th>VISIBILITY_AVG_KM</th>\n",
              "      <th>PRESSURE_MAX_MB</th>\n",
              "      <th>CLOUDCOVER_AVG_PERCENT</th>\n",
              "      <th>HEATINDEX_MAX_C</th>\n",
              "      <th>DEWPOINT_MAX_C</th>\n",
              "      <th>WINDTEMP_MAX_C</th>\n",
              "      <th>date</th>\n",
              "      <th>WEATHER_CODE_EVENING</th>\n",
              "      <th>TOTAL_SNOW_MM</th>\n",
              "      <th>UV_INDEX</th>\n",
              "      <th>SUNHOUR</th>\n",
              "      <th>OPINION</th>\n",
              "    </tr>\n",
              "  </thead>\n",
              "  <tbody>\n",
              "    <tr>\n",
              "      <th>0</th>\n",
              "      <td>2018-01-01</td>\n",
              "      <td>12</td>\n",
              "      <td>8</td>\n",
              "      <td>61</td>\n",
              "      <td>9</td>\n",
              "      <td>11</td>\n",
              "      <td>8</td>\n",
              "      <td>8.9</td>\n",
              "      <td>79</td>\n",
              "      <td>9.500</td>\n",
              "      <td>1018</td>\n",
              "      <td>41.750</td>\n",
              "      <td>12</td>\n",
              "      <td>8</td>\n",
              "      <td>7</td>\n",
              "      <td>2018-01-01</td>\n",
              "      <td>113.0</td>\n",
              "      <td>0.0</td>\n",
              "      <td>3.0</td>\n",
              "      <td>5.1</td>\n",
              "      <td>bad</td>\n",
              "    </tr>\n",
              "    <tr>\n",
              "      <th>1</th>\n",
              "      <td>2018-01-02</td>\n",
              "      <td>13</td>\n",
              "      <td>6</td>\n",
              "      <td>26</td>\n",
              "      <td>8</td>\n",
              "      <td>12</td>\n",
              "      <td>13</td>\n",
              "      <td>0.6</td>\n",
              "      <td>96</td>\n",
              "      <td>9.000</td>\n",
              "      <td>1020</td>\n",
              "      <td>87.875</td>\n",
              "      <td>13</td>\n",
              "      <td>12</td>\n",
              "      <td>6</td>\n",
              "      <td>2018-01-02</td>\n",
              "      <td>122.0</td>\n",
              "      <td>0.0</td>\n",
              "      <td>3.0</td>\n",
              "      <td>3.3</td>\n",
              "      <td>bad</td>\n",
              "    </tr>\n",
              "    <tr>\n",
              "      <th>2</th>\n",
              "      <td>2018-01-03</td>\n",
              "      <td>15</td>\n",
              "      <td>10</td>\n",
              "      <td>40</td>\n",
              "      <td>11</td>\n",
              "      <td>12</td>\n",
              "      <td>10</td>\n",
              "      <td>5.5</td>\n",
              "      <td>82</td>\n",
              "      <td>8.500</td>\n",
              "      <td>1017</td>\n",
              "      <td>91.500</td>\n",
              "      <td>15</td>\n",
              "      <td>13</td>\n",
              "      <td>7</td>\n",
              "      <td>2018-01-03</td>\n",
              "      <td>122.0</td>\n",
              "      <td>0.0</td>\n",
              "      <td>3.0</td>\n",
              "      <td>3.3</td>\n",
              "      <td>bad</td>\n",
              "    </tr>\n",
              "    <tr>\n",
              "      <th>3</th>\n",
              "      <td>2018-01-04</td>\n",
              "      <td>14</td>\n",
              "      <td>11</td>\n",
              "      <td>45</td>\n",
              "      <td>14</td>\n",
              "      <td>14</td>\n",
              "      <td>11</td>\n",
              "      <td>0.0</td>\n",
              "      <td>89</td>\n",
              "      <td>10.000</td>\n",
              "      <td>1011</td>\n",
              "      <td>90.125</td>\n",
              "      <td>14</td>\n",
              "      <td>12</td>\n",
              "      <td>10</td>\n",
              "      <td>2018-01-04</td>\n",
              "      <td>116.0</td>\n",
              "      <td>0.0</td>\n",
              "      <td>3.0</td>\n",
              "      <td>3.3</td>\n",
              "      <td>bad</td>\n",
              "    </tr>\n",
              "    <tr>\n",
              "      <th>4</th>\n",
              "      <td>2018-01-05</td>\n",
              "      <td>12</td>\n",
              "      <td>7</td>\n",
              "      <td>21</td>\n",
              "      <td>10</td>\n",
              "      <td>11</td>\n",
              "      <td>8</td>\n",
              "      <td>1.5</td>\n",
              "      <td>85</td>\n",
              "      <td>9.875</td>\n",
              "      <td>1005</td>\n",
              "      <td>62.375</td>\n",
              "      <td>12</td>\n",
              "      <td>10</td>\n",
              "      <td>7</td>\n",
              "      <td>2018-01-05</td>\n",
              "      <td>116.0</td>\n",
              "      <td>0.0</td>\n",
              "      <td>3.0</td>\n",
              "      <td>6.9</td>\n",
              "      <td>bad</td>\n",
              "    </tr>\n",
              "  </tbody>\n",
              "</table>\n",
              "</div>"
            ],
            "text/plain": [
              "         DATE  MAX_TEMPERATURE_C  MIN_TEMPERATURE_C  ...  UV_INDEX  SUNHOUR  OPINION\n",
              "0  2018-01-01                 12                  8  ...       3.0      5.1      bad\n",
              "1  2018-01-02                 13                  6  ...       3.0      3.3      bad\n",
              "2  2018-01-03                 15                 10  ...       3.0      3.3      bad\n",
              "3  2018-01-04                 14                 11  ...       3.0      3.3      bad\n",
              "4  2018-01-05                 12                  7  ...       3.0      6.9      bad\n",
              "\n",
              "[5 rows x 21 columns]"
            ]
          },
          "metadata": {
            "tags": []
          },
          "execution_count": 122
        }
      ]
    },
    {
      "cell_type": "code",
      "metadata": {
        "id": "lVSg8YOdkPbH",
        "colab": {
          "base_uri": "https://localhost:8080/",
          "height": 316
        },
        "outputId": "68f0998e-8738-4982-feae-be178cebda8d"
      },
      "source": [
        "df = df.drop(columns = 'date')\n",
        "print(df.shape)\n",
        "df.head()"
      ],
      "execution_count": null,
      "outputs": [
        {
          "output_type": "stream",
          "text": [
            "(365, 20)\n"
          ],
          "name": "stdout"
        },
        {
          "output_type": "execute_result",
          "data": {
            "text/html": [
              "<div>\n",
              "<style scoped>\n",
              "    .dataframe tbody tr th:only-of-type {\n",
              "        vertical-align: middle;\n",
              "    }\n",
              "\n",
              "    .dataframe tbody tr th {\n",
              "        vertical-align: top;\n",
              "    }\n",
              "\n",
              "    .dataframe thead th {\n",
              "        text-align: right;\n",
              "    }\n",
              "</style>\n",
              "<table border=\"1\" class=\"dataframe\">\n",
              "  <thead>\n",
              "    <tr style=\"text-align: right;\">\n",
              "      <th></th>\n",
              "      <th>DATE</th>\n",
              "      <th>MAX_TEMPERATURE_C</th>\n",
              "      <th>MIN_TEMPERATURE_C</th>\n",
              "      <th>WINDSPEED_MAX_KMH</th>\n",
              "      <th>TEMPERATURE_MORNING_C</th>\n",
              "      <th>TEMPERATURE_NOON_C</th>\n",
              "      <th>TEMPERATURE_EVENING_C</th>\n",
              "      <th>PRECIP_TOTAL_DAY_MM</th>\n",
              "      <th>HUMIDITY_MAX_PERCENT</th>\n",
              "      <th>VISIBILITY_AVG_KM</th>\n",
              "      <th>PRESSURE_MAX_MB</th>\n",
              "      <th>CLOUDCOVER_AVG_PERCENT</th>\n",
              "      <th>HEATINDEX_MAX_C</th>\n",
              "      <th>DEWPOINT_MAX_C</th>\n",
              "      <th>WINDTEMP_MAX_C</th>\n",
              "      <th>WEATHER_CODE_EVENING</th>\n",
              "      <th>TOTAL_SNOW_MM</th>\n",
              "      <th>UV_INDEX</th>\n",
              "      <th>SUNHOUR</th>\n",
              "      <th>OPINION</th>\n",
              "    </tr>\n",
              "  </thead>\n",
              "  <tbody>\n",
              "    <tr>\n",
              "      <th>0</th>\n",
              "      <td>2018-01-01</td>\n",
              "      <td>12</td>\n",
              "      <td>8</td>\n",
              "      <td>61</td>\n",
              "      <td>9</td>\n",
              "      <td>11</td>\n",
              "      <td>8</td>\n",
              "      <td>8.9</td>\n",
              "      <td>79</td>\n",
              "      <td>9.500</td>\n",
              "      <td>1018</td>\n",
              "      <td>41.750</td>\n",
              "      <td>12</td>\n",
              "      <td>8</td>\n",
              "      <td>7</td>\n",
              "      <td>113.0</td>\n",
              "      <td>0.0</td>\n",
              "      <td>3.0</td>\n",
              "      <td>5.1</td>\n",
              "      <td>bad</td>\n",
              "    </tr>\n",
              "    <tr>\n",
              "      <th>1</th>\n",
              "      <td>2018-01-02</td>\n",
              "      <td>13</td>\n",
              "      <td>6</td>\n",
              "      <td>26</td>\n",
              "      <td>8</td>\n",
              "      <td>12</td>\n",
              "      <td>13</td>\n",
              "      <td>0.6</td>\n",
              "      <td>96</td>\n",
              "      <td>9.000</td>\n",
              "      <td>1020</td>\n",
              "      <td>87.875</td>\n",
              "      <td>13</td>\n",
              "      <td>12</td>\n",
              "      <td>6</td>\n",
              "      <td>122.0</td>\n",
              "      <td>0.0</td>\n",
              "      <td>3.0</td>\n",
              "      <td>3.3</td>\n",
              "      <td>bad</td>\n",
              "    </tr>\n",
              "    <tr>\n",
              "      <th>2</th>\n",
              "      <td>2018-01-03</td>\n",
              "      <td>15</td>\n",
              "      <td>10</td>\n",
              "      <td>40</td>\n",
              "      <td>11</td>\n",
              "      <td>12</td>\n",
              "      <td>10</td>\n",
              "      <td>5.5</td>\n",
              "      <td>82</td>\n",
              "      <td>8.500</td>\n",
              "      <td>1017</td>\n",
              "      <td>91.500</td>\n",
              "      <td>15</td>\n",
              "      <td>13</td>\n",
              "      <td>7</td>\n",
              "      <td>122.0</td>\n",
              "      <td>0.0</td>\n",
              "      <td>3.0</td>\n",
              "      <td>3.3</td>\n",
              "      <td>bad</td>\n",
              "    </tr>\n",
              "    <tr>\n",
              "      <th>3</th>\n",
              "      <td>2018-01-04</td>\n",
              "      <td>14</td>\n",
              "      <td>11</td>\n",
              "      <td>45</td>\n",
              "      <td>14</td>\n",
              "      <td>14</td>\n",
              "      <td>11</td>\n",
              "      <td>0.0</td>\n",
              "      <td>89</td>\n",
              "      <td>10.000</td>\n",
              "      <td>1011</td>\n",
              "      <td>90.125</td>\n",
              "      <td>14</td>\n",
              "      <td>12</td>\n",
              "      <td>10</td>\n",
              "      <td>116.0</td>\n",
              "      <td>0.0</td>\n",
              "      <td>3.0</td>\n",
              "      <td>3.3</td>\n",
              "      <td>bad</td>\n",
              "    </tr>\n",
              "    <tr>\n",
              "      <th>4</th>\n",
              "      <td>2018-01-05</td>\n",
              "      <td>12</td>\n",
              "      <td>7</td>\n",
              "      <td>21</td>\n",
              "      <td>10</td>\n",
              "      <td>11</td>\n",
              "      <td>8</td>\n",
              "      <td>1.5</td>\n",
              "      <td>85</td>\n",
              "      <td>9.875</td>\n",
              "      <td>1005</td>\n",
              "      <td>62.375</td>\n",
              "      <td>12</td>\n",
              "      <td>10</td>\n",
              "      <td>7</td>\n",
              "      <td>116.0</td>\n",
              "      <td>0.0</td>\n",
              "      <td>3.0</td>\n",
              "      <td>6.9</td>\n",
              "      <td>bad</td>\n",
              "    </tr>\n",
              "  </tbody>\n",
              "</table>\n",
              "</div>"
            ],
            "text/plain": [
              "         DATE  MAX_TEMPERATURE_C  MIN_TEMPERATURE_C  ...  UV_INDEX  SUNHOUR  OPINION\n",
              "0  2018-01-01                 12                  8  ...       3.0      5.1      bad\n",
              "1  2018-01-02                 13                  6  ...       3.0      3.3      bad\n",
              "2  2018-01-03                 15                 10  ...       3.0      3.3      bad\n",
              "3  2018-01-04                 14                 11  ...       3.0      3.3      bad\n",
              "4  2018-01-05                 12                  7  ...       3.0      6.9      bad\n",
              "\n",
              "[5 rows x 20 columns]"
            ]
          },
          "metadata": {
            "tags": []
          },
          "execution_count": 123
        }
      ]
    },
    {
      "cell_type": "code",
      "metadata": {
        "id": "bTDOOltXkqm4",
        "colab": {
          "base_uri": "https://localhost:8080/"
        },
        "outputId": "972bfea3-9fe9-441c-c6fd-618a46fb779e"
      },
      "source": [
        "df.info()"
      ],
      "execution_count": null,
      "outputs": [
        {
          "output_type": "stream",
          "text": [
            "<class 'pandas.core.frame.DataFrame'>\n",
            "Int64Index: 365 entries, 0 to 364\n",
            "Data columns (total 20 columns):\n",
            " #   Column                  Non-Null Count  Dtype  \n",
            "---  ------                  --------------  -----  \n",
            " 0   DATE                    365 non-null    object \n",
            " 1   MAX_TEMPERATURE_C       365 non-null    int64  \n",
            " 2   MIN_TEMPERATURE_C       365 non-null    int64  \n",
            " 3   WINDSPEED_MAX_KMH       365 non-null    int64  \n",
            " 4   TEMPERATURE_MORNING_C   365 non-null    int64  \n",
            " 5   TEMPERATURE_NOON_C      365 non-null    int64  \n",
            " 6   TEMPERATURE_EVENING_C   365 non-null    int64  \n",
            " 7   PRECIP_TOTAL_DAY_MM     365 non-null    float64\n",
            " 8   HUMIDITY_MAX_PERCENT    365 non-null    int64  \n",
            " 9   VISIBILITY_AVG_KM       365 non-null    float64\n",
            " 10  PRESSURE_MAX_MB         365 non-null    int64  \n",
            " 11  CLOUDCOVER_AVG_PERCENT  365 non-null    float64\n",
            " 12  HEATINDEX_MAX_C         365 non-null    int64  \n",
            " 13  DEWPOINT_MAX_C          365 non-null    int64  \n",
            " 14  WINDTEMP_MAX_C          365 non-null    int64  \n",
            " 15  WEATHER_CODE_EVENING    341 non-null    float64\n",
            " 16  TOTAL_SNOW_MM           341 non-null    float64\n",
            " 17  UV_INDEX                341 non-null    float64\n",
            " 18  SUNHOUR                 341 non-null    float64\n",
            " 19  OPINION                 341 non-null    object \n",
            "dtypes: float64(7), int64(11), object(2)\n",
            "memory usage: 59.9+ KB\n"
          ],
          "name": "stdout"
        }
      ]
    },
    {
      "cell_type": "code",
      "metadata": {
        "id": "TF_zkEA0ma75",
        "colab": {
          "base_uri": "https://localhost:8080/"
        },
        "outputId": "4d43178f-a2fa-492b-e345-e5a79757921b"
      },
      "source": [
        "df.isna().sum()"
      ],
      "execution_count": null,
      "outputs": [
        {
          "output_type": "execute_result",
          "data": {
            "text/plain": [
              "DATE                       0\n",
              "MAX_TEMPERATURE_C          0\n",
              "MIN_TEMPERATURE_C          0\n",
              "WINDSPEED_MAX_KMH          0\n",
              "TEMPERATURE_MORNING_C      0\n",
              "TEMPERATURE_NOON_C         0\n",
              "TEMPERATURE_EVENING_C      0\n",
              "PRECIP_TOTAL_DAY_MM        0\n",
              "HUMIDITY_MAX_PERCENT       0\n",
              "VISIBILITY_AVG_KM          0\n",
              "PRESSURE_MAX_MB            0\n",
              "CLOUDCOVER_AVG_PERCENT     0\n",
              "HEATINDEX_MAX_C            0\n",
              "DEWPOINT_MAX_C             0\n",
              "WINDTEMP_MAX_C             0\n",
              "WEATHER_CODE_EVENING      24\n",
              "TOTAL_SNOW_MM             24\n",
              "UV_INDEX                  24\n",
              "SUNHOUR                   24\n",
              "OPINION                   24\n",
              "dtype: int64"
            ]
          },
          "metadata": {
            "tags": []
          },
          "execution_count": 125
        }
      ]
    },
    {
      "cell_type": "markdown",
      "metadata": {
        "id": "VSS2lKdbkkWO"
      },
      "source": [
        "#  Train-test split of the new 2018 DataFrame (with \"opinion\" as target)"
      ]
    },
    {
      "cell_type": "code",
      "metadata": {
        "id": "ItQi2D0yoBmA",
        "colab": {
          "base_uri": "https://localhost:8080/"
        },
        "outputId": "db0a3139-60e1-4fc5-bb94-573c1fd78e8d"
      },
      "source": [
        "#our target must be OPINION. However, OPINION is an object. We have to transform OPINION into INT values.\n",
        "\n",
        "df['OPINION'].unique()"
      ],
      "execution_count": null,
      "outputs": [
        {
          "output_type": "execute_result",
          "data": {
            "text/plain": [
              "array(['bad', 'very bad', nan, 'not good not bad', 'good', 'very good'],\n",
              "      dtype=object)"
            ]
          },
          "metadata": {
            "tags": []
          },
          "execution_count": 126
        }
      ]
    },
    {
      "cell_type": "code",
      "metadata": {
        "id": "BGDgU9IZohlC",
        "colab": {
          "base_uri": "https://localhost:8080/"
        },
        "outputId": "504aa905-e3bb-4cdc-cedc-261662ebca90"
      },
      "source": [
        "df['OPINION'].value_counts()"
      ],
      "execution_count": null,
      "outputs": [
        {
          "output_type": "execute_result",
          "data": {
            "text/plain": [
              "good                91\n",
              "very bad            82\n",
              "bad                 79\n",
              "not good not bad    68\n",
              "very good           21\n",
              "Name: OPINION, dtype: int64"
            ]
          },
          "metadata": {
            "tags": []
          },
          "execution_count": 127
        }
      ]
    },
    {
      "cell_type": "code",
      "metadata": {
        "id": "fW6raipjosJq",
        "colab": {
          "base_uri": "https://localhost:8080/"
        },
        "outputId": "72d84b67-f283-4bbb-dbc5-ffb1699e7c49"
      },
      "source": [
        "df['OPINION'].isna().sum()"
      ],
      "execution_count": null,
      "outputs": [
        {
          "output_type": "execute_result",
          "data": {
            "text/plain": [
              "24"
            ]
          },
          "metadata": {
            "tags": []
          },
          "execution_count": 128
        }
      ]
    },
    {
      "cell_type": "code",
      "metadata": {
        "id": "ijX4hb8rms9J",
        "colab": {
          "base_uri": "https://localhost:8080/"
        },
        "outputId": "e7710cea-47f6-48a6-fb84-343bb390cff3"
      },
      "source": [
        "#we replace opinions by integers \n",
        "df['OPINION'] = df['OPINION'].apply(lambda x: 0 if x == 'very bad' else (1 if x == 'bad' else (2 if x == 'not good not bad' else (3 if x == 'good' else (4 if x == 'very good' else np.nan)))))\n",
        "\n",
        "#we check if it worked\n",
        "print(df['OPINION'].value_counts())\n",
        "print(df['OPINION'].isna().sum())"
      ],
      "execution_count": null,
      "outputs": [
        {
          "output_type": "stream",
          "text": [
            "3.0    91\n",
            "0.0    82\n",
            "1.0    79\n",
            "2.0    68\n",
            "4.0    21\n",
            "Name: OPINION, dtype: int64\n",
            "24\n"
          ],
          "name": "stdout"
        }
      ]
    },
    {
      "cell_type": "code",
      "metadata": {
        "id": "eEunYuLvpF1S",
        "colab": {
          "base_uri": "https://localhost:8080/",
          "height": 225
        },
        "outputId": "ff75263b-3ba9-4f54-85a6-47bb9477288e"
      },
      "source": [
        "#we stock the match between opinions and integer in a dataframe\n",
        "list_opinions = ['bad', 'very bad', np.nan , 'not good not bad', 'good', 'very good']\n",
        "\n",
        "opinions = pd.DataFrame(data = df['OPINION'].unique(), index = list_opinions, columns = ['opinion_int'])\n",
        "opinions.sort_values(by = 'opinion_int')"
      ],
      "execution_count": null,
      "outputs": [
        {
          "output_type": "execute_result",
          "data": {
            "text/html": [
              "<div>\n",
              "<style scoped>\n",
              "    .dataframe tbody tr th:only-of-type {\n",
              "        vertical-align: middle;\n",
              "    }\n",
              "\n",
              "    .dataframe tbody tr th {\n",
              "        vertical-align: top;\n",
              "    }\n",
              "\n",
              "    .dataframe thead th {\n",
              "        text-align: right;\n",
              "    }\n",
              "</style>\n",
              "<table border=\"1\" class=\"dataframe\">\n",
              "  <thead>\n",
              "    <tr style=\"text-align: right;\">\n",
              "      <th></th>\n",
              "      <th>opinion_int</th>\n",
              "    </tr>\n",
              "  </thead>\n",
              "  <tbody>\n",
              "    <tr>\n",
              "      <th>very bad</th>\n",
              "      <td>0.0</td>\n",
              "    </tr>\n",
              "    <tr>\n",
              "      <th>bad</th>\n",
              "      <td>1.0</td>\n",
              "    </tr>\n",
              "    <tr>\n",
              "      <th>not good not bad</th>\n",
              "      <td>2.0</td>\n",
              "    </tr>\n",
              "    <tr>\n",
              "      <th>good</th>\n",
              "      <td>3.0</td>\n",
              "    </tr>\n",
              "    <tr>\n",
              "      <th>very good</th>\n",
              "      <td>4.0</td>\n",
              "    </tr>\n",
              "    <tr>\n",
              "      <th>NaN</th>\n",
              "      <td>NaN</td>\n",
              "    </tr>\n",
              "  </tbody>\n",
              "</table>\n",
              "</div>"
            ],
            "text/plain": [
              "                  opinion_int\n",
              "very bad                  0.0\n",
              "bad                       1.0\n",
              "not good not bad          2.0\n",
              "good                      3.0\n",
              "very good                 4.0\n",
              "NaN                       NaN"
            ]
          },
          "metadata": {
            "tags": []
          },
          "execution_count": 130
        }
      ]
    },
    {
      "cell_type": "code",
      "metadata": {
        "id": "frNJoJsKqPR3",
        "colab": {
          "base_uri": "https://localhost:8080/"
        },
        "outputId": "91869352-6fb5-40ef-8547-a5a0f165af91"
      },
      "source": [
        "#before splitting the dataset, we look at the correlations with OPINION\n",
        "\n",
        "df.corr()['OPINION'].sort_values(ascending=False)"
      ],
      "execution_count": null,
      "outputs": [
        {
          "output_type": "execute_result",
          "data": {
            "text/plain": [
              "OPINION                   1.000000\n",
              "MAX_TEMPERATURE_C         0.880554\n",
              "TEMPERATURE_NOON_C        0.878449\n",
              "HEATINDEX_MAX_C           0.875463\n",
              "TEMPERATURE_EVENING_C     0.843455\n",
              "WINDTEMP_MAX_C            0.839561\n",
              "DEWPOINT_MAX_C            0.764366\n",
              "MIN_TEMPERATURE_C         0.762138\n",
              "TEMPERATURE_MORNING_C     0.733315\n",
              "SUNHOUR                   0.642791\n",
              "PRESSURE_MAX_MB           0.188994\n",
              "VISIBILITY_AVG_KM         0.147736\n",
              "UV_INDEX                  0.113744\n",
              "WEATHER_CODE_EVENING     -0.065573\n",
              "PRECIP_TOTAL_DAY_MM      -0.198563\n",
              "WINDSPEED_MAX_KMH        -0.293089\n",
              "HUMIDITY_MAX_PERCENT     -0.476245\n",
              "CLOUDCOVER_AVG_PERCENT   -0.532455\n",
              "TOTAL_SNOW_MM                  NaN\n",
              "Name: OPINION, dtype: float64"
            ]
          },
          "metadata": {
            "tags": []
          },
          "execution_count": 131
        }
      ]
    },
    {
      "cell_type": "code",
      "metadata": {
        "id": "c8YBaFy2q2_m",
        "colab": {
          "base_uri": "https://localhost:8080/",
          "height": 1000
        },
        "outputId": "833bda11-eb66-43a4-a5b7-66222d530379"
      },
      "source": [
        "#heatmap\n",
        "\n",
        "fig, ax = plt.subplots(figsize = (15,15))\n",
        "sns.heatmap(df.corr(), cmap = 'coolwarm', annot = True)\n"
      ],
      "execution_count": null,
      "outputs": [
        {
          "output_type": "execute_result",
          "data": {
            "text/plain": [
              "<matplotlib.axes._subplots.AxesSubplot at 0x7f3bc9c9afd0>"
            ]
          },
          "metadata": {
            "tags": []
          },
          "execution_count": 132
        },
        {
          "output_type": "display_data",
          "data": {
            "image/png": "[encoded data removed]",
            "text/plain": [
              "<Figure size 1080x1080 with 2 Axes>"
            ]
          },
          "metadata": {
            "tags": [],
            "needs_background": "light"
          }
        }
      ]
    },
    {
      "cell_type": "markdown",
      "metadata": {
        "id": "2E1-eFuxv8wE"
      },
      "source": [
        "## Dividing dataset between df_clean (without NaNs) and df_nan (with NaNs)"
      ]
    },
    {
      "cell_type": "code",
      "metadata": {
        "id": "LU2AbufwwLOl",
        "colab": {
          "base_uri": "https://localhost:8080/"
        },
        "outputId": "924cf237-b29a-414b-ba15-87a5bea9b885"
      },
      "source": [
        "df_clean = df[df['OPINION'].isna() == False]\n",
        "df_clean.shape"
      ],
      "execution_count": null,
      "outputs": [
        {
          "output_type": "execute_result",
          "data": {
            "text/plain": [
              "(341, 20)"
            ]
          },
          "metadata": {
            "tags": []
          },
          "execution_count": 133
        }
      ]
    },
    {
      "cell_type": "code",
      "metadata": {
        "id": "IaV-9S4KwhSm",
        "colab": {
          "base_uri": "https://localhost:8080/"
        },
        "outputId": "cf82cc37-300b-47bf-95b6-1a7d50154613"
      },
      "source": [
        "df_nan = df[df['OPINION'].isna() == True]\n",
        "df_nan.shape"
      ],
      "execution_count": null,
      "outputs": [
        {
          "output_type": "execute_result",
          "data": {
            "text/plain": [
              "(24, 20)"
            ]
          },
          "metadata": {
            "tags": []
          },
          "execution_count": 134
        }
      ]
    },
    {
      "cell_type": "code",
      "metadata": {
        "id": "_Qpy-fxtwq67",
        "colab": {
          "base_uri": "https://localhost:8080/",
          "height": 307
        },
        "outputId": "a795d8bf-38c0-41d8-e551-2869f059f521"
      },
      "source": [
        "#we create a 'FLAG' column to visualize the real values and predicted values at the end of the prediction\n",
        "\n",
        "df_clean['FLAG'] = np.where(df_clean['OPINION'].isna() == False, 'real values', 'predicted values')\n",
        "df_clean.head(3)"
      ],
      "execution_count": null,
      "outputs": [
        {
          "output_type": "stream",
          "text": [
            "/usr/local/lib/python3.6/dist-packages/ipykernel_launcher.py:3: SettingWithCopyWarning: \n",
            "A value is trying to be set on a copy of a slice from a DataFrame.\n",
            "Try using .loc[row_indexer,col_indexer] = value instead\n",
            "\n",
            "See the caveats in the documentation: https://pandas.pydata.org/pandas-docs/stable/user_guide/indexing.html#returning-a-view-versus-a-copy\n",
            "  This is separate from the ipykernel package so we can avoid doing imports until\n"
          ],
          "name": "stderr"
        },
        {
          "output_type": "execute_result",
          "data": {
            "text/html": [
              "<div>\n",
              "<style scoped>\n",
              "    .dataframe tbody tr th:only-of-type {\n",
              "        vertical-align: middle;\n",
              "    }\n",
              "\n",
              "    .dataframe tbody tr th {\n",
              "        vertical-align: top;\n",
              "    }\n",
              "\n",
              "    .dataframe thead th {\n",
              "        text-align: right;\n",
              "    }\n",
              "</style>\n",
              "<table border=\"1\" class=\"dataframe\">\n",
              "  <thead>\n",
              "    <tr style=\"text-align: right;\">\n",
              "      <th></th>\n",
              "      <th>DATE</th>\n",
              "      <th>MAX_TEMPERATURE_C</th>\n",
              "      <th>MIN_TEMPERATURE_C</th>\n",
              "      <th>WINDSPEED_MAX_KMH</th>\n",
              "      <th>TEMPERATURE_MORNING_C</th>\n",
              "      <th>TEMPERATURE_NOON_C</th>\n",
              "      <th>TEMPERATURE_EVENING_C</th>\n",
              "      <th>PRECIP_TOTAL_DAY_MM</th>\n",
              "      <th>HUMIDITY_MAX_PERCENT</th>\n",
              "      <th>VISIBILITY_AVG_KM</th>\n",
              "      <th>PRESSURE_MAX_MB</th>\n",
              "      <th>CLOUDCOVER_AVG_PERCENT</th>\n",
              "      <th>HEATINDEX_MAX_C</th>\n",
              "      <th>DEWPOINT_MAX_C</th>\n",
              "      <th>WINDTEMP_MAX_C</th>\n",
              "      <th>WEATHER_CODE_EVENING</th>\n",
              "      <th>TOTAL_SNOW_MM</th>\n",
              "      <th>UV_INDEX</th>\n",
              "      <th>SUNHOUR</th>\n",
              "      <th>OPINION</th>\n",
              "      <th>FLAG</th>\n",
              "    </tr>\n",
              "  </thead>\n",
              "  <tbody>\n",
              "    <tr>\n",
              "      <th>0</th>\n",
              "      <td>2018-01-01</td>\n",
              "      <td>12</td>\n",
              "      <td>8</td>\n",
              "      <td>61</td>\n",
              "      <td>9</td>\n",
              "      <td>11</td>\n",
              "      <td>8</td>\n",
              "      <td>8.9</td>\n",
              "      <td>79</td>\n",
              "      <td>9.5</td>\n",
              "      <td>1018</td>\n",
              "      <td>41.750</td>\n",
              "      <td>12</td>\n",
              "      <td>8</td>\n",
              "      <td>7</td>\n",
              "      <td>113.0</td>\n",
              "      <td>0.0</td>\n",
              "      <td>3.0</td>\n",
              "      <td>5.1</td>\n",
              "      <td>1.0</td>\n",
              "      <td>real values</td>\n",
              "    </tr>\n",
              "    <tr>\n",
              "      <th>1</th>\n",
              "      <td>2018-01-02</td>\n",
              "      <td>13</td>\n",
              "      <td>6</td>\n",
              "      <td>26</td>\n",
              "      <td>8</td>\n",
              "      <td>12</td>\n",
              "      <td>13</td>\n",
              "      <td>0.6</td>\n",
              "      <td>96</td>\n",
              "      <td>9.0</td>\n",
              "      <td>1020</td>\n",
              "      <td>87.875</td>\n",
              "      <td>13</td>\n",
              "      <td>12</td>\n",
              "      <td>6</td>\n",
              "      <td>122.0</td>\n",
              "      <td>0.0</td>\n",
              "      <td>3.0</td>\n",
              "      <td>3.3</td>\n",
              "      <td>1.0</td>\n",
              "      <td>real values</td>\n",
              "    </tr>\n",
              "    <tr>\n",
              "      <th>2</th>\n",
              "      <td>2018-01-03</td>\n",
              "      <td>15</td>\n",
              "      <td>10</td>\n",
              "      <td>40</td>\n",
              "      <td>11</td>\n",
              "      <td>12</td>\n",
              "      <td>10</td>\n",
              "      <td>5.5</td>\n",
              "      <td>82</td>\n",
              "      <td>8.5</td>\n",
              "      <td>1017</td>\n",
              "      <td>91.500</td>\n",
              "      <td>15</td>\n",
              "      <td>13</td>\n",
              "      <td>7</td>\n",
              "      <td>122.0</td>\n",
              "      <td>0.0</td>\n",
              "      <td>3.0</td>\n",
              "      <td>3.3</td>\n",
              "      <td>1.0</td>\n",
              "      <td>real values</td>\n",
              "    </tr>\n",
              "  </tbody>\n",
              "</table>\n",
              "</div>"
            ],
            "text/plain": [
              "         DATE  MAX_TEMPERATURE_C  ...  OPINION         FLAG\n",
              "0  2018-01-01                 12  ...      1.0  real values\n",
              "1  2018-01-02                 13  ...      1.0  real values\n",
              "2  2018-01-03                 15  ...      1.0  real values\n",
              "\n",
              "[3 rows x 21 columns]"
            ]
          },
          "metadata": {
            "tags": []
          },
          "execution_count": 135
        }
      ]
    },
    {
      "cell_type": "code",
      "metadata": {
        "id": "zuxRPx9va8Or",
        "colab": {
          "base_uri": "https://localhost:8080/",
          "height": 307
        },
        "outputId": "b51fc466-91ec-42d2-c12a-976ead398835"
      },
      "source": [
        "#we do it for both df_clean and df_nan\n",
        "df_nan['FLAG'] = np.where(df_nan['TOTAL_SNOW_MM'].isna() == False, 'real values', 'predicted values')\n",
        "df_nan.head(3)"
      ],
      "execution_count": null,
      "outputs": [
        {
          "output_type": "stream",
          "text": [
            "/usr/local/lib/python3.6/dist-packages/ipykernel_launcher.py:2: SettingWithCopyWarning: \n",
            "A value is trying to be set on a copy of a slice from a DataFrame.\n",
            "Try using .loc[row_indexer,col_indexer] = value instead\n",
            "\n",
            "See the caveats in the documentation: https://pandas.pydata.org/pandas-docs/stable/user_guide/indexing.html#returning-a-view-versus-a-copy\n",
            "  \n"
          ],
          "name": "stderr"
        },
        {
          "output_type": "execute_result",
          "data": {
            "text/html": [
              "<div>\n",
              "<style scoped>\n",
              "    .dataframe tbody tr th:only-of-type {\n",
              "        vertical-align: middle;\n",
              "    }\n",
              "\n",
              "    .dataframe tbody tr th {\n",
              "        vertical-align: top;\n",
              "    }\n",
              "\n",
              "    .dataframe thead th {\n",
              "        text-align: right;\n",
              "    }\n",
              "</style>\n",
              "<table border=\"1\" class=\"dataframe\">\n",
              "  <thead>\n",
              "    <tr style=\"text-align: right;\">\n",
              "      <th></th>\n",
              "      <th>DATE</th>\n",
              "      <th>MAX_TEMPERATURE_C</th>\n",
              "      <th>MIN_TEMPERATURE_C</th>\n",
              "      <th>WINDSPEED_MAX_KMH</th>\n",
              "      <th>TEMPERATURE_MORNING_C</th>\n",
              "      <th>TEMPERATURE_NOON_C</th>\n",
              "      <th>TEMPERATURE_EVENING_C</th>\n",
              "      <th>PRECIP_TOTAL_DAY_MM</th>\n",
              "      <th>HUMIDITY_MAX_PERCENT</th>\n",
              "      <th>VISIBILITY_AVG_KM</th>\n",
              "      <th>PRESSURE_MAX_MB</th>\n",
              "      <th>CLOUDCOVER_AVG_PERCENT</th>\n",
              "      <th>HEATINDEX_MAX_C</th>\n",
              "      <th>DEWPOINT_MAX_C</th>\n",
              "      <th>WINDTEMP_MAX_C</th>\n",
              "      <th>WEATHER_CODE_EVENING</th>\n",
              "      <th>TOTAL_SNOW_MM</th>\n",
              "      <th>UV_INDEX</th>\n",
              "      <th>SUNHOUR</th>\n",
              "      <th>OPINION</th>\n",
              "      <th>FLAG</th>\n",
              "    </tr>\n",
              "  </thead>\n",
              "  <tbody>\n",
              "    <tr>\n",
              "      <th>18</th>\n",
              "      <td>2018-01-19</td>\n",
              "      <td>10</td>\n",
              "      <td>6</td>\n",
              "      <td>23</td>\n",
              "      <td>6</td>\n",
              "      <td>10</td>\n",
              "      <td>6</td>\n",
              "      <td>0.7</td>\n",
              "      <td>88</td>\n",
              "      <td>9.875</td>\n",
              "      <td>1020</td>\n",
              "      <td>37.000</td>\n",
              "      <td>10</td>\n",
              "      <td>6</td>\n",
              "      <td>5</td>\n",
              "      <td>NaN</td>\n",
              "      <td>NaN</td>\n",
              "      <td>NaN</td>\n",
              "      <td>NaN</td>\n",
              "      <td>NaN</td>\n",
              "      <td>predicted values</td>\n",
              "    </tr>\n",
              "    <tr>\n",
              "      <th>31</th>\n",
              "      <td>2018-02-01</td>\n",
              "      <td>8</td>\n",
              "      <td>3</td>\n",
              "      <td>17</td>\n",
              "      <td>4</td>\n",
              "      <td>8</td>\n",
              "      <td>4</td>\n",
              "      <td>0.2</td>\n",
              "      <td>81</td>\n",
              "      <td>10.000</td>\n",
              "      <td>1012</td>\n",
              "      <td>39.500</td>\n",
              "      <td>8</td>\n",
              "      <td>3</td>\n",
              "      <td>2</td>\n",
              "      <td>NaN</td>\n",
              "      <td>NaN</td>\n",
              "      <td>NaN</td>\n",
              "      <td>NaN</td>\n",
              "      <td>NaN</td>\n",
              "      <td>predicted values</td>\n",
              "    </tr>\n",
              "    <tr>\n",
              "      <th>66</th>\n",
              "      <td>2018-03-08</td>\n",
              "      <td>13</td>\n",
              "      <td>7</td>\n",
              "      <td>23</td>\n",
              "      <td>7</td>\n",
              "      <td>12</td>\n",
              "      <td>9</td>\n",
              "      <td>0.4</td>\n",
              "      <td>87</td>\n",
              "      <td>9.750</td>\n",
              "      <td>1005</td>\n",
              "      <td>52.625</td>\n",
              "      <td>13</td>\n",
              "      <td>7</td>\n",
              "      <td>6</td>\n",
              "      <td>NaN</td>\n",
              "      <td>NaN</td>\n",
              "      <td>NaN</td>\n",
              "      <td>NaN</td>\n",
              "      <td>NaN</td>\n",
              "      <td>predicted values</td>\n",
              "    </tr>\n",
              "  </tbody>\n",
              "</table>\n",
              "</div>"
            ],
            "text/plain": [
              "          DATE  MAX_TEMPERATURE_C  ...  OPINION              FLAG\n",
              "18  2018-01-19                 10  ...      NaN  predicted values\n",
              "31  2018-02-01                  8  ...      NaN  predicted values\n",
              "66  2018-03-08                 13  ...      NaN  predicted values\n",
              "\n",
              "[3 rows x 21 columns]"
            ]
          },
          "metadata": {
            "tags": []
          },
          "execution_count": 136
        }
      ]
    },
    {
      "cell_type": "markdown",
      "metadata": {
        "id": "l3n4LTc0wL-Z"
      },
      "source": [
        "# Spliting the df_clean"
      ]
    },
    {
      "cell_type": "code",
      "metadata": {
        "id": "It4xIEidsKHF"
      },
      "source": [
        "#we choose the variables according to the correlations and split the dataset. We pay attention not to choose a variable which contains NaN in df_nan\n",
        "#we choose a random_state of 42 and a train_size of 0.80\n",
        "\n",
        "X = df_clean[['MAX_TEMPERATURE_C', 'MIN_TEMPERATURE_C','TEMPERATURE_MORNING_C', 'TEMPERATURE_NOON_C', 'TEMPERATURE_EVENING_C', \n",
        "       'HEATINDEX_MAX_C','DEWPOINT_MAX_C', 'WINDTEMP_MAX_C']]\n",
        "\n",
        "y = df_clean['OPINION']\n",
        "\n",
        "X_train, X_test, y_train, y_test = train_test_split(X, y, random_state=42, train_size = 0.80)"
      ],
      "execution_count": null,
      "outputs": []
    },
    {
      "cell_type": "markdown",
      "metadata": {
        "id": "kml65CcduvFL"
      },
      "source": [
        "# Training 3 differents Machine Learning algorithms"
      ]
    },
    {
      "cell_type": "markdown",
      "metadata": {
        "id": "KQ9tCPwj1F-t"
      },
      "source": [
        "## Feature scaling"
      ]
    },
    {
      "cell_type": "code",
      "metadata": {
        "id": "TBcMKCW01LoQ"
      },
      "source": [
        "#we normalize the data of the train and test sets\n",
        "scaler = StandardScaler()\n",
        "scaler.fit(X_train)\n",
        "\n",
        "X_train = scaler.transform(X_train)\n",
        "X_test = scaler.transform(X_test)"
      ],
      "execution_count": null,
      "outputs": []
    },
    {
      "cell_type": "markdown",
      "metadata": {
        "id": "Wf9iaNy-uy3J"
      },
      "source": [
        "## Logistic Regression"
      ]
    },
    {
      "cell_type": "code",
      "metadata": {
        "id": "hMK_YpdCuxxP",
        "colab": {
          "base_uri": "https://localhost:8080/"
        },
        "outputId": "cd8cbc37-edfa-4dc3-d322-6241a6447e70"
      },
      "source": [
        "#we fit a logistic regression with the train set\n",
        "model_reg = LogisticRegression()\n",
        "model_reg.fit(X_train,y_train)\n"
      ],
      "execution_count": null,
      "outputs": [
        {
          "output_type": "execute_result",
          "data": {
            "text/plain": [
              "LogisticRegression(C=1.0, class_weight=None, dual=False, fit_intercept=True,\n",
              "                   intercept_scaling=1, l1_ratio=None, max_iter=100,\n",
              "                   multi_class='auto', n_jobs=None, penalty='l2',\n",
              "                   random_state=None, solver='lbfgs', tol=0.0001, verbose=0,\n",
              "                   warm_start=False)"
            ]
          },
          "metadata": {
            "tags": []
          },
          "execution_count": 139
        }
      ]
    },
    {
      "cell_type": "code",
      "metadata": {
        "id": "BiCfIIATvmtS",
        "colab": {
          "base_uri": "https://localhost:8080/"
        },
        "outputId": "030f49ee-b365-4a2a-8a7c-040f4e620f0d"
      },
      "source": [
        "#accuracy scores\n",
        "print(\"accuracy score on train set:\",model_reg.score(X_train, y_train))\n",
        "print(\"accuracy score on test set:\",model_reg.score(X_test, y_test))\n",
        "\n",
        "#the accuracy score is ok and there a little overfitting"
      ],
      "execution_count": null,
      "outputs": [
        {
          "output_type": "stream",
          "text": [
            "accuracy score on train set: 0.7941176470588235\n",
            "accuracy score on test set: 0.7391304347826086\n"
          ],
          "name": "stdout"
        }
      ]
    },
    {
      "cell_type": "code",
      "metadata": {
        "id": "c2mb9QHFzxqT",
        "colab": {
          "base_uri": "https://localhost:8080/"
        },
        "outputId": "18ffde8f-bb14-4188-e911-f89112a92ca1"
      },
      "source": [
        "#list of classes\n",
        "\n",
        "model_reg.classes_"
      ],
      "execution_count": null,
      "outputs": [
        {
          "output_type": "execute_result",
          "data": {
            "text/plain": [
              "array([0., 1., 2., 3., 4.])"
            ]
          },
          "metadata": {
            "tags": []
          },
          "execution_count": 141
        }
      ]
    },
    {
      "cell_type": "code",
      "metadata": {
        "id": "1Oj9NH9o0A3m",
        "colab": {
          "base_uri": "https://localhost:8080/"
        },
        "outputId": "ec823c34-9b19-4251-bbe0-1cec6181948b"
      },
      "source": [
        "#iterations needed\n",
        "\n",
        "model_reg.n_iter_"
      ],
      "execution_count": null,
      "outputs": [
        {
          "output_type": "execute_result",
          "data": {
            "text/plain": [
              "array([65], dtype=int32)"
            ]
          },
          "metadata": {
            "tags": []
          },
          "execution_count": 142
        }
      ]
    },
    {
      "cell_type": "code",
      "metadata": {
        "id": "j-Shx27q0Swr",
        "colab": {
          "base_uri": "https://localhost:8080/",
          "height": 195
        },
        "outputId": "d4042258-1002-4148-d07e-5258caf25bcf"
      },
      "source": [
        "#matrix of prediction probabilities\n",
        "\n",
        "matrix_proba = pd.DataFrame(data = model_reg.predict_proba(X_test), columns = model_reg.classes_)\n",
        "matrix_proba.head()"
      ],
      "execution_count": null,
      "outputs": [
        {
          "output_type": "execute_result",
          "data": {
            "text/html": [
              "<div>\n",
              "<style scoped>\n",
              "    .dataframe tbody tr th:only-of-type {\n",
              "        vertical-align: middle;\n",
              "    }\n",
              "\n",
              "    .dataframe tbody tr th {\n",
              "        vertical-align: top;\n",
              "    }\n",
              "\n",
              "    .dataframe thead th {\n",
              "        text-align: right;\n",
              "    }\n",
              "</style>\n",
              "<table border=\"1\" class=\"dataframe\">\n",
              "  <thead>\n",
              "    <tr style=\"text-align: right;\">\n",
              "      <th></th>\n",
              "      <th>0.0</th>\n",
              "      <th>1.0</th>\n",
              "      <th>2.0</th>\n",
              "      <th>3.0</th>\n",
              "      <th>4.0</th>\n",
              "    </tr>\n",
              "  </thead>\n",
              "  <tbody>\n",
              "    <tr>\n",
              "      <th>0</th>\n",
              "      <td>0.970431</td>\n",
              "      <td>0.019725</td>\n",
              "      <td>0.009475</td>\n",
              "      <td>0.000369</td>\n",
              "      <td>1.606477e-08</td>\n",
              "    </tr>\n",
              "    <tr>\n",
              "      <th>1</th>\n",
              "      <td>0.049706</td>\n",
              "      <td>0.912149</td>\n",
              "      <td>0.036504</td>\n",
              "      <td>0.001640</td>\n",
              "      <td>2.308124e-06</td>\n",
              "    </tr>\n",
              "    <tr>\n",
              "      <th>2</th>\n",
              "      <td>0.019694</td>\n",
              "      <td>0.300543</td>\n",
              "      <td>0.604780</td>\n",
              "      <td>0.074926</td>\n",
              "      <td>5.700517e-05</td>\n",
              "    </tr>\n",
              "    <tr>\n",
              "      <th>3</th>\n",
              "      <td>0.987402</td>\n",
              "      <td>0.011866</td>\n",
              "      <td>0.000565</td>\n",
              "      <td>0.000167</td>\n",
              "      <td>3.528126e-08</td>\n",
              "    </tr>\n",
              "    <tr>\n",
              "      <th>4</th>\n",
              "      <td>0.014891</td>\n",
              "      <td>0.919972</td>\n",
              "      <td>0.063319</td>\n",
              "      <td>0.001814</td>\n",
              "      <td>3.106317e-06</td>\n",
              "    </tr>\n",
              "  </tbody>\n",
              "</table>\n",
              "</div>"
            ],
            "text/plain": [
              "        0.0       1.0       2.0       3.0           4.0\n",
              "0  0.970431  0.019725  0.009475  0.000369  1.606477e-08\n",
              "1  0.049706  0.912149  0.036504  0.001640  2.308124e-06\n",
              "2  0.019694  0.300543  0.604780  0.074926  5.700517e-05\n",
              "3  0.987402  0.011866  0.000565  0.000167  3.528126e-08\n",
              "4  0.014891  0.919972  0.063319  0.001814  3.106317e-06"
            ]
          },
          "metadata": {
            "tags": []
          },
          "execution_count": 143
        }
      ]
    },
    {
      "cell_type": "code",
      "metadata": {
        "id": "ekjF9MqtzOsq",
        "colab": {
          "base_uri": "https://localhost:8080/",
          "height": 195
        },
        "outputId": "f897aeeb-29d8-48f6-81e8-969b3572cef4"
      },
      "source": [
        "#we look at the confusion matrix\n",
        "#the index are the actual values of y_test and the columns are the predicted values\n",
        "\n",
        "pd.DataFrame(data = confusion_matrix(y_true = y_test, y_pred = model_reg.predict(X_test)),\n",
        "             index = model_reg.classes_,\n",
        "             columns = model_reg.classes_)"
      ],
      "execution_count": null,
      "outputs": [
        {
          "output_type": "execute_result",
          "data": {
            "text/html": [
              "<div>\n",
              "<style scoped>\n",
              "    .dataframe tbody tr th:only-of-type {\n",
              "        vertical-align: middle;\n",
              "    }\n",
              "\n",
              "    .dataframe tbody tr th {\n",
              "        vertical-align: top;\n",
              "    }\n",
              "\n",
              "    .dataframe thead th {\n",
              "        text-align: right;\n",
              "    }\n",
              "</style>\n",
              "<table border=\"1\" class=\"dataframe\">\n",
              "  <thead>\n",
              "    <tr style=\"text-align: right;\">\n",
              "      <th></th>\n",
              "      <th>0.0</th>\n",
              "      <th>1.0</th>\n",
              "      <th>2.0</th>\n",
              "      <th>3.0</th>\n",
              "      <th>4.0</th>\n",
              "    </tr>\n",
              "  </thead>\n",
              "  <tbody>\n",
              "    <tr>\n",
              "      <th>0.0</th>\n",
              "      <td>20</td>\n",
              "      <td>0</td>\n",
              "      <td>0</td>\n",
              "      <td>0</td>\n",
              "      <td>0</td>\n",
              "    </tr>\n",
              "    <tr>\n",
              "      <th>1.0</th>\n",
              "      <td>2</td>\n",
              "      <td>8</td>\n",
              "      <td>1</td>\n",
              "      <td>0</td>\n",
              "      <td>0</td>\n",
              "    </tr>\n",
              "    <tr>\n",
              "      <th>2.0</th>\n",
              "      <td>0</td>\n",
              "      <td>8</td>\n",
              "      <td>6</td>\n",
              "      <td>3</td>\n",
              "      <td>0</td>\n",
              "    </tr>\n",
              "    <tr>\n",
              "      <th>3.0</th>\n",
              "      <td>0</td>\n",
              "      <td>0</td>\n",
              "      <td>0</td>\n",
              "      <td>14</td>\n",
              "      <td>3</td>\n",
              "    </tr>\n",
              "    <tr>\n",
              "      <th>4.0</th>\n",
              "      <td>0</td>\n",
              "      <td>0</td>\n",
              "      <td>0</td>\n",
              "      <td>1</td>\n",
              "      <td>3</td>\n",
              "    </tr>\n",
              "  </tbody>\n",
              "</table>\n",
              "</div>"
            ],
            "text/plain": [
              "     0.0  1.0  2.0  3.0  4.0\n",
              "0.0   20    0    0    0    0\n",
              "1.0    2    8    1    0    0\n",
              "2.0    0    8    6    3    0\n",
              "3.0    0    0    0   14    3\n",
              "4.0    0    0    0    1    3"
            ]
          },
          "metadata": {
            "tags": []
          },
          "execution_count": 144
        }
      ]
    },
    {
      "cell_type": "code",
      "metadata": {
        "id": "3XFHh8Gj2LYk",
        "colab": {
          "base_uri": "https://localhost:8080/",
          "height": 254
        },
        "outputId": "37bf6938-6023-43de-f068-5eebe03a6bea"
      },
      "source": [
        "#we print the classification report\n",
        "print(classification_report(y_test, model_reg.predict(X_test)))\n",
        "\n",
        "'''\n",
        "precision : the classes have a high percentage of predicted values that were correctly classified. \n",
        "recall : the classes 0, 1, 3 and 4 have a high precentage of actual values that were correctly classified. 2 has a percentage which is low.\n",
        "f1-score : the weighted average of F1 is 0.74 which is quite good.\n",
        "\n",
        "'''"
      ],
      "execution_count": null,
      "outputs": [
        {
          "output_type": "stream",
          "text": [
            "              precision    recall  f1-score   support\n",
            "\n",
            "         0.0       0.91      1.00      0.95        20\n",
            "         1.0       0.50      0.73      0.59        11\n",
            "         2.0       0.86      0.35      0.50        17\n",
            "         3.0       0.78      0.82      0.80        17\n",
            "         4.0       0.50      0.75      0.60         4\n",
            "\n",
            "    accuracy                           0.74        69\n",
            "   macro avg       0.71      0.73      0.69        69\n",
            "weighted avg       0.78      0.74      0.73        69\n",
            "\n"
          ],
          "name": "stdout"
        },
        {
          "output_type": "execute_result",
          "data": {
            "application/vnd.google.colaboratory.intrinsic+json": {
              "type": "string"
            },
            "text/plain": [
              "'\\nprecision : the classes have a high percentage of predicted values that were correctly classified. \\nrecall : the classes 0, 1, 3 and 4 have a high precentage of actual values that were correctly classified. 2 has a percentage which is low.\\nf1-score : the weighted average of F1 is 0.74 which is quite good.\\n\\n'"
            ]
          },
          "metadata": {
            "tags": []
          },
          "execution_count": 145
        }
      ]
    },
    {
      "cell_type": "markdown",
      "metadata": {
        "id": "Y4J98zPP14_J"
      },
      "source": [
        "## KNN"
      ]
    },
    {
      "cell_type": "markdown",
      "metadata": {
        "id": "3uQO_CyI17sp"
      },
      "source": [
        "### Mean error value depending on K value"
      ]
    },
    {
      "cell_type": "code",
      "metadata": {
        "id": "PohRtux62Do0"
      },
      "source": [
        "#we want to know the best value of k\n",
        "\n",
        "error = []\n",
        "\n",
        "# Calculating error for K values between 1 and 40\n",
        "for i in range(1, 40):\n",
        "    knn = KNeighborsClassifier(n_neighbors=i)\n",
        "    knn.fit(X_train, y_train)\n",
        "    pred_i = knn.predict(X_test)\n",
        "    error.append(np.mean(pred_i != y_test))"
      ],
      "execution_count": null,
      "outputs": []
    },
    {
      "cell_type": "code",
      "metadata": {
        "id": "WzI2ijtGMV-U",
        "colab": {
          "base_uri": "https://localhost:8080/",
          "height": 404
        },
        "outputId": "18e03abf-cde4-4005-8c08-7061507919f4"
      },
      "source": [
        "#we plot the error values against K values\n",
        "plt.figure(figsize=(12, 6))\n",
        "plt.plot(range(1, 40), error, color='red', linestyle='dashed', marker='o',\n",
        "         markerfacecolor='blue', markersize=10)\n",
        "plt.title('Error Rate K Value')\n",
        "plt.xlabel('K Value')\n",
        "plt.ylabel('Mean Error')\n",
        "plt.xticks(ticks = range(1, 40))\n",
        "\n",
        "plt.show()\n",
        "\n",
        "#we can see that the mean error is closest to zero with k=9\n",
        "#we will choose one of this value for our model"
      ],
      "execution_count": null,
      "outputs": [
        {
          "output_type": "display_data",
          "data": {
            "image/png": "[encoded data removed]",
            "text/plain": [
              "<Figure size 864x432 with 1 Axes>"
            ]
          },
          "metadata": {
            "tags": [],
            "needs_background": "light"
          }
        }
      ]
    },
    {
      "cell_type": "markdown",
      "metadata": {
        "id": "y9gZIGcuNOqK"
      },
      "source": [
        "### Weights choice"
      ]
    },
    {
      "cell_type": "code",
      "metadata": {
        "id": "cwy66tlXNR2c",
        "colab": {
          "base_uri": "https://localhost:8080/"
        },
        "outputId": "7c4af75b-0466-4e0e-b3b6-8bfb414b39ba"
      },
      "source": [
        "#we want to define which weight is better\n",
        "\n",
        "#for weights = 'distance'\n",
        "\n",
        "\n",
        "#we try the model with the best k values\n",
        "k_list = [7,9]\n",
        "\n",
        "max_accuracy = 0\n",
        "max_i = 0\n",
        "max_weights = ''\n",
        "\n",
        "print(\"for weights = 'distance' : \")\n",
        "\n",
        "for i in k_list:\n",
        "  weights_1 = 'distance'\n",
        "  knn = KNeighborsClassifier(n_neighbors = i, weights = weights_1)\n",
        "  knn.fit(X_train, y_train)\n",
        "  predictions = knn.predict(X_test)\n",
        "  accuracy = accuracy_score(y_test,predictions)\n",
        "  print(\"The accuracy score for a n_neighbors of {} is {}\".format(i,round(accuracy,3)))\n",
        "  if accuracy > max_accuracy:\n",
        "    max_accuracy = accuracy\n",
        "    max_i = i\n",
        "    max_weights = weights_1\n",
        "\n",
        "\n",
        "#for weights = 'uniform'\n",
        "\n",
        "print(\"for weights = 'uniform' : \")\n",
        "\n",
        "for i in k_list:\n",
        "  weights_2 = 'uniform'\n",
        "  knn = KNeighborsClassifier(n_neighbors = i, weights = weights_2)\n",
        "  knn.fit(X_train, y_train)\n",
        "  predictions = knn.predict(X_test)\n",
        "  accuracy = accuracy_score(y_test,predictions)\n",
        "  print(\"The accuracy score for a n_neighbors of {} is {}\".format(i,round(accuracy,3)))\n",
        "  if accuracy > max_accuracy:\n",
        "    max_accuracy = accuracy\n",
        "    max_i = i\n",
        "    max_weights = weights_2\n",
        "\n",
        "print('The best accuracy {} is with a n_neighbors of {} and a weights {}'.format(round(max_accuracy,3), max_i, max_weights))"
      ],
      "execution_count": null,
      "outputs": [
        {
          "output_type": "stream",
          "text": [
            "for weights = 'distance' : \n",
            "The accuracy score for a n_neighbors of 7 is 0.754\n",
            "The accuracy score for a n_neighbors of 9 is 0.783\n",
            "for weights = 'uniform' : \n",
            "The accuracy score for a n_neighbors of 7 is 0.754\n",
            "The accuracy score for a n_neighbors of 9 is 0.768\n",
            "The best accuracy 0.783 is with a n_neighbors of 9 and a weights distance\n"
          ],
          "name": "stdout"
        }
      ]
    },
    {
      "cell_type": "markdown",
      "metadata": {
        "id": "uOTAdJ9FOxFM"
      },
      "source": [
        "### KNN Model"
      ]
    },
    {
      "cell_type": "code",
      "metadata": {
        "id": "g8GM52qgO2Cb",
        "colab": {
          "base_uri": "https://localhost:8080/"
        },
        "outputId": "a20ec344-792f-43d9-cf16-3b967c6a4fa8"
      },
      "source": [
        "#Now that we evaluated the best k value and the best weight, we can train and fit our model\n",
        "model_knn = KNeighborsClassifier(n_neighbors = 9, weights = 'distance')\n",
        "model_knn.fit(X_train, y_train)\n",
        "\n",
        "\n",
        "#we predict\n",
        "predictions = model_knn.predict(X_test)\n",
        "\n",
        "#we look at the accuracy score\n",
        "accuracy_knn = accuracy_score(y_test,predictions)\n",
        "print(\"accuracy score of knn = %.3f\" % accuracy_knn)\n",
        "\n",
        "#At the moment accuracy scores for logistic regression and knn are almost the same but the accuracy score on the test set\n",
        "#is a bit higher for the knn model"
      ],
      "execution_count": null,
      "outputs": [
        {
          "output_type": "stream",
          "text": [
            "accuracy score of knn = 0.783\n"
          ],
          "name": "stdout"
        }
      ]
    },
    {
      "cell_type": "markdown",
      "metadata": {
        "id": "55GuaQF_QawY"
      },
      "source": [
        "## Decision Tree"
      ]
    },
    {
      "cell_type": "markdown",
      "metadata": {
        "id": "FmlX8XbvRkN7"
      },
      "source": [
        "### Maximum depth"
      ]
    },
    {
      "cell_type": "code",
      "metadata": {
        "id": "TNIHzgfzRjsH",
        "colab": {
          "base_uri": "https://localhost:8080/"
        },
        "outputId": "217fc28f-3cad-4c53-a07f-444469233fe7"
      },
      "source": [
        "#we want to evaluate which max_depth would be better for ou model\n",
        "list_of_accuracies = []\n",
        "\n",
        "max_accuracy2 = 0\n",
        "max_depth_max = 0\n",
        "\n",
        "for i in range(1, 11):\n",
        "  modelDTC = DecisionTreeClassifier(max_depth = i)\n",
        "  modelDTC.fit(X_train, y_train) #we fit the model\n",
        "  modelDTC.predict(X_test)\n",
        "  accuracy = modelDTC.score(X_test, y_test) #we stock the accuracy score of the model in a variable\n",
        "  list_of_accuracies.append(accuracy) #e append this score in the list\n",
        "\n",
        "  if accuracy > max_accuracy2: #we stock the max accuracy score and the max_depth which is matching\n",
        "    max_accuracy2 = accuracy\n",
        "    max_depth_max = i\n",
        "\n",
        "#we print the list of accuracies according to the max_depth values\n",
        "for i in range(len(list_of_accuracies)):\n",
        "  print('The accuracy score for a max_depth of {} is {}'.format(i+1,list_of_accuracies[i]))\n",
        "\n",
        "#we print the max_depth with the best accuracy score \n",
        "print('The best accuracy score {} is with a max_depth of {}'.format(round(max_accuracy2,3), max_depth_max))"
      ],
      "execution_count": null,
      "outputs": [
        {
          "output_type": "stream",
          "text": [
            "The accuracy score for a max_depth of 1 is 0.5362318840579711\n",
            "The accuracy score for a max_depth of 2 is 0.6811594202898551\n",
            "The accuracy score for a max_depth of 3 is 0.7536231884057971\n",
            "The accuracy score for a max_depth of 4 is 0.7536231884057971\n",
            "The accuracy score for a max_depth of 5 is 0.7246376811594203\n",
            "The accuracy score for a max_depth of 6 is 0.7391304347826086\n",
            "The accuracy score for a max_depth of 7 is 0.7246376811594203\n",
            "The accuracy score for a max_depth of 8 is 0.7246376811594203\n",
            "The accuracy score for a max_depth of 9 is 0.7246376811594203\n",
            "The accuracy score for a max_depth of 10 is 0.7681159420289855\n",
            "The best accuracy score 0.768 is with a max_depth of 10\n"
          ],
          "name": "stdout"
        }
      ]
    },
    {
      "cell_type": "code",
      "metadata": {
        "id": "qGO5APu4S626",
        "colab": {
          "base_uri": "https://localhost:8080/",
          "height": 296
        },
        "outputId": "82517608-6891-415c-f375-d2d67c95487a"
      },
      "source": [
        "#we plot the accuracy scores against the max_depth\n",
        "\n",
        "#we use a scatterplot\n",
        "max_depth = np.arange(1,11)\n",
        "plt.scatter(x = max_depth, y = list_of_accuracies)\n",
        "\n",
        "#title, ticks and legend\n",
        "plt.xlabel('max_depth')\n",
        "plt.xticks(ticks = max_depth)\n",
        "plt.ylabel('accuracy')\n",
        "plt.title('Accuracy of the model according to max_depth value')\n",
        "\n",
        "\n",
        "plt.show()\n",
        "\n",
        "#we see that the best accuracy score is obtained with a max_depth of 10"
      ],
      "execution_count": null,
      "outputs": [
        {
          "output_type": "display_data",
          "data": {
            "image/png": "[encoded data removed]",
            "text/plain": [
              "<Figure size 432x288 with 1 Axes>"
            ]
          },
          "metadata": {
            "tags": [],
            "needs_background": "light"
          }
        }
      ]
    },
    {
      "cell_type": "markdown",
      "metadata": {
        "id": "LKE5qp4LTOYQ"
      },
      "source": [
        "### Decision Tree model"
      ]
    },
    {
      "cell_type": "code",
      "metadata": {
        "id": "G0HhfXr5TL0H",
        "colab": {
          "base_uri": "https://localhost:8080/"
        },
        "outputId": "29204c4e-ef6e-43e2-cdd8-0dfac5de2f09"
      },
      "source": [
        "#Now that we evaluated the best max_depth, we can train and fit our model\n",
        "\n",
        "modelDTC = DecisionTreeClassifier(max_depth = 10)\n",
        "modelDTC.fit(X_train, y_train)\n",
        "\n",
        "#prediction on test set\n",
        "modelDTC.predict(X_test)\n",
        "\n",
        "#we look at the accuracy score\n",
        "print(\"accuracy score on train set:\",modelDTC.score(X_train, y_train))\n",
        "print(\"accuracy score on test set:\",modelDTC.score(X_test, y_test))"
      ],
      "execution_count": null,
      "outputs": [
        {
          "output_type": "stream",
          "text": [
            "accuracy score on train set: 0.9889705882352942\n",
            "accuracy score on test set: 0.7391304347826086\n"
          ],
          "name": "stdout"
        }
      ]
    },
    {
      "cell_type": "code",
      "metadata": {
        "id": "z8QHT18LQhMe",
        "colab": {
          "base_uri": "https://localhost:8080/",
          "height": 284
        },
        "outputId": "17c1d34c-da24-417d-f5a1-5bacb73c9211"
      },
      "source": [
        "# we print each feature with importance %\n",
        "\n",
        "pd.DataFrame(data = modelDTC.feature_importances_,\n",
        "             index = X.columns,\n",
        "             columns = ['importance(%)'])"
      ],
      "execution_count": null,
      "outputs": [
        {
          "output_type": "execute_result",
          "data": {
            "text/html": [
              "<div>\n",
              "<style scoped>\n",
              "    .dataframe tbody tr th:only-of-type {\n",
              "        vertical-align: middle;\n",
              "    }\n",
              "\n",
              "    .dataframe tbody tr th {\n",
              "        vertical-align: top;\n",
              "    }\n",
              "\n",
              "    .dataframe thead th {\n",
              "        text-align: right;\n",
              "    }\n",
              "</style>\n",
              "<table border=\"1\" class=\"dataframe\">\n",
              "  <thead>\n",
              "    <tr style=\"text-align: right;\">\n",
              "      <th></th>\n",
              "      <th>importance(%)</th>\n",
              "    </tr>\n",
              "  </thead>\n",
              "  <tbody>\n",
              "    <tr>\n",
              "      <th>MAX_TEMPERATURE_C</th>\n",
              "      <td>0.046138</td>\n",
              "    </tr>\n",
              "    <tr>\n",
              "      <th>MIN_TEMPERATURE_C</th>\n",
              "      <td>0.303810</td>\n",
              "    </tr>\n",
              "    <tr>\n",
              "      <th>TEMPERATURE_MORNING_C</th>\n",
              "      <td>0.139785</td>\n",
              "    </tr>\n",
              "    <tr>\n",
              "      <th>TEMPERATURE_NOON_C</th>\n",
              "      <td>0.115870</td>\n",
              "    </tr>\n",
              "    <tr>\n",
              "      <th>TEMPERATURE_EVENING_C</th>\n",
              "      <td>0.035762</td>\n",
              "    </tr>\n",
              "    <tr>\n",
              "      <th>HEATINDEX_MAX_C</th>\n",
              "      <td>0.238403</td>\n",
              "    </tr>\n",
              "    <tr>\n",
              "      <th>DEWPOINT_MAX_C</th>\n",
              "      <td>0.071517</td>\n",
              "    </tr>\n",
              "    <tr>\n",
              "      <th>WINDTEMP_MAX_C</th>\n",
              "      <td>0.048715</td>\n",
              "    </tr>\n",
              "  </tbody>\n",
              "</table>\n",
              "</div>"
            ],
            "text/plain": [
              "                       importance(%)\n",
              "MAX_TEMPERATURE_C           0.046138\n",
              "MIN_TEMPERATURE_C           0.303810\n",
              "TEMPERATURE_MORNING_C       0.139785\n",
              "TEMPERATURE_NOON_C          0.115870\n",
              "TEMPERATURE_EVENING_C       0.035762\n",
              "HEATINDEX_MAX_C             0.238403\n",
              "DEWPOINT_MAX_C              0.071517\n",
              "WINDTEMP_MAX_C              0.048715"
            ]
          },
          "metadata": {
            "tags": []
          },
          "execution_count": 153
        }
      ]
    },
    {
      "cell_type": "code",
      "metadata": {
        "id": "mGHGlb4WUPTC",
        "colab": {
          "base_uri": "https://localhost:8080/"
        },
        "outputId": "3d088acf-8a9f-4ef4-f4a9-d0188b14deb9"
      },
      "source": [
        "#the classes are the different opinions that we turned into integers\n",
        "modelDTC.classes_"
      ],
      "execution_count": null,
      "outputs": [
        {
          "output_type": "execute_result",
          "data": {
            "text/plain": [
              "array([0., 1., 2., 3., 4.])"
            ]
          },
          "metadata": {
            "tags": []
          },
          "execution_count": 154
        }
      ]
    },
    {
      "cell_type": "code",
      "metadata": {
        "id": "nHnVRxSNUdns",
        "colab": {
          "base_uri": "https://localhost:8080/",
          "height": 225
        },
        "outputId": "4ee571d9-7f5a-4b12-ea13-c4703f88ebd9"
      },
      "source": [
        "opinions.sort_values(by = 'opinion_int')"
      ],
      "execution_count": null,
      "outputs": [
        {
          "output_type": "execute_result",
          "data": {
            "text/html": [
              "<div>\n",
              "<style scoped>\n",
              "    .dataframe tbody tr th:only-of-type {\n",
              "        vertical-align: middle;\n",
              "    }\n",
              "\n",
              "    .dataframe tbody tr th {\n",
              "        vertical-align: top;\n",
              "    }\n",
              "\n",
              "    .dataframe thead th {\n",
              "        text-align: right;\n",
              "    }\n",
              "</style>\n",
              "<table border=\"1\" class=\"dataframe\">\n",
              "  <thead>\n",
              "    <tr style=\"text-align: right;\">\n",
              "      <th></th>\n",
              "      <th>opinion_int</th>\n",
              "    </tr>\n",
              "  </thead>\n",
              "  <tbody>\n",
              "    <tr>\n",
              "      <th>very bad</th>\n",
              "      <td>0.0</td>\n",
              "    </tr>\n",
              "    <tr>\n",
              "      <th>bad</th>\n",
              "      <td>1.0</td>\n",
              "    </tr>\n",
              "    <tr>\n",
              "      <th>not good not bad</th>\n",
              "      <td>2.0</td>\n",
              "    </tr>\n",
              "    <tr>\n",
              "      <th>good</th>\n",
              "      <td>3.0</td>\n",
              "    </tr>\n",
              "    <tr>\n",
              "      <th>very good</th>\n",
              "      <td>4.0</td>\n",
              "    </tr>\n",
              "    <tr>\n",
              "      <th>NaN</th>\n",
              "      <td>NaN</td>\n",
              "    </tr>\n",
              "  </tbody>\n",
              "</table>\n",
              "</div>"
            ],
            "text/plain": [
              "                  opinion_int\n",
              "very bad                  0.0\n",
              "bad                       1.0\n",
              "not good not bad          2.0\n",
              "good                      3.0\n",
              "very good                 4.0\n",
              "NaN                       NaN"
            ]
          },
          "metadata": {
            "tags": []
          },
          "execution_count": 155
        }
      ]
    },
    {
      "cell_type": "code",
      "metadata": {
        "id": "6coVsQfxUtcB",
        "colab": {
          "base_uri": "https://localhost:8080/"
        },
        "outputId": "bad67872-47fe-45b1-ce85-dee8700e480e"
      },
      "source": [
        "list_classes = list(opinions.sort_values(by = 'opinion_int').index)\n",
        "del list_classes[5]\n",
        "list_classes"
      ],
      "execution_count": null,
      "outputs": [
        {
          "output_type": "execute_result",
          "data": {
            "text/plain": [
              "['very bad', 'bad', 'not good not bad', 'good', 'very good']"
            ]
          },
          "metadata": {
            "tags": []
          },
          "execution_count": 156
        }
      ]
    },
    {
      "cell_type": "code",
      "metadata": {
        "id": "2_Yu_QTaT8-k",
        "colab": {
          "base_uri": "https://localhost:8080/",
          "height": 1000
        },
        "outputId": "5747231b-d43e-4c06-cd11-0d3d8a5bbb27"
      },
      "source": [
        "# We plot the results\n",
        "\n",
        "plt.figure(figsize = (20,20))\n",
        "plot_tree(modelDTC, filled = True,  \n",
        "          class_names = list_classes, \n",
        "          feature_names=X.columns )\n",
        "plt.show()"
      ],
      "execution_count": null,
      "outputs": [
        {
          "output_type": "display_data",
          "data": {
            "image/png": "[encoded data removed]",
            "text/plain": [
              "<Figure size 1440x1440 with 1 Axes>"
            ]
          },
          "metadata": {
            "tags": [],
            "needs_background": "light"
          }
        }
      ]
    },
    {
      "cell_type": "markdown",
      "metadata": {
        "id": "ZWIiQEW4WasD"
      },
      "source": [
        "# Filling the missing values in the \"opinion\" columns whith our best model (KNN)"
      ]
    },
    {
      "cell_type": "code",
      "metadata": {
        "id": "Ugpo2ayAWgKx",
        "colab": {
          "base_uri": "https://localhost:8080/"
        },
        "outputId": "e8ee02a5-6fe1-4024-d2c2-b53824fcc18d"
      },
      "source": [
        "#Our best model is the KNN model. It has the best accuracy score. We must use a n_neighbors of 9 and a weights 'distance'.\n",
        "#We fill our missing values in df_nan for the 'OPINION' column.\n",
        "\n",
        "model_knn = KNeighborsClassifier(n_neighbors = 9, weights = 'distance')\n",
        "model_knn.fit(X_train, y_train)\n",
        "\n",
        "\n",
        "#we define our X\n",
        "X_nan = df_nan[['MAX_TEMPERATURE_C', 'MIN_TEMPERATURE_C','TEMPERATURE_MORNING_C', 'TEMPERATURE_NOON_C', 'TEMPERATURE_EVENING_C', \n",
        "       'HEATINDEX_MAX_C','DEWPOINT_MAX_C', 'WINDTEMP_MAX_C']]\n",
        "\n",
        "#we fill the Nan in OPINION column\n",
        "df_nan['OPINION'] = model_knn.predict(X_nan)"
      ],
      "execution_count": null,
      "outputs": [
        {
          "output_type": "stream",
          "text": [
            "/usr/local/lib/python3.6/dist-packages/ipykernel_launcher.py:13: SettingWithCopyWarning: \n",
            "A value is trying to be set on a copy of a slice from a DataFrame.\n",
            "Try using .loc[row_indexer,col_indexer] = value instead\n",
            "\n",
            "See the caveats in the documentation: https://pandas.pydata.org/pandas-docs/stable/user_guide/indexing.html#returning-a-view-versus-a-copy\n",
            "  del sys.path[0]\n"
          ],
          "name": "stderr"
        }
      ]
    },
    {
      "cell_type": "code",
      "metadata": {
        "id": "ECz8P8TPaTup",
        "colab": {
          "base_uri": "https://localhost:8080/",
          "height": 160
        },
        "outputId": "9e20d9fd-b882-47f7-cd0b-165815d909f9"
      },
      "source": [
        "df_nan.head(2)"
      ],
      "execution_count": null,
      "outputs": [
        {
          "output_type": "execute_result",
          "data": {
            "text/html": [
              "<div>\n",
              "<style scoped>\n",
              "    .dataframe tbody tr th:only-of-type {\n",
              "        vertical-align: middle;\n",
              "    }\n",
              "\n",
              "    .dataframe tbody tr th {\n",
              "        vertical-align: top;\n",
              "    }\n",
              "\n",
              "    .dataframe thead th {\n",
              "        text-align: right;\n",
              "    }\n",
              "</style>\n",
              "<table border=\"1\" class=\"dataframe\">\n",
              "  <thead>\n",
              "    <tr style=\"text-align: right;\">\n",
              "      <th></th>\n",
              "      <th>DATE</th>\n",
              "      <th>MAX_TEMPERATURE_C</th>\n",
              "      <th>MIN_TEMPERATURE_C</th>\n",
              "      <th>WINDSPEED_MAX_KMH</th>\n",
              "      <th>TEMPERATURE_MORNING_C</th>\n",
              "      <th>TEMPERATURE_NOON_C</th>\n",
              "      <th>TEMPERATURE_EVENING_C</th>\n",
              "      <th>PRECIP_TOTAL_DAY_MM</th>\n",
              "      <th>HUMIDITY_MAX_PERCENT</th>\n",
              "      <th>VISIBILITY_AVG_KM</th>\n",
              "      <th>PRESSURE_MAX_MB</th>\n",
              "      <th>CLOUDCOVER_AVG_PERCENT</th>\n",
              "      <th>HEATINDEX_MAX_C</th>\n",
              "      <th>DEWPOINT_MAX_C</th>\n",
              "      <th>WINDTEMP_MAX_C</th>\n",
              "      <th>WEATHER_CODE_EVENING</th>\n",
              "      <th>TOTAL_SNOW_MM</th>\n",
              "      <th>UV_INDEX</th>\n",
              "      <th>SUNHOUR</th>\n",
              "      <th>OPINION</th>\n",
              "      <th>FLAG</th>\n",
              "    </tr>\n",
              "  </thead>\n",
              "  <tbody>\n",
              "    <tr>\n",
              "      <th>18</th>\n",
              "      <td>2018-01-19</td>\n",
              "      <td>10</td>\n",
              "      <td>6</td>\n",
              "      <td>23</td>\n",
              "      <td>6</td>\n",
              "      <td>10</td>\n",
              "      <td>6</td>\n",
              "      <td>0.7</td>\n",
              "      <td>88</td>\n",
              "      <td>9.875</td>\n",
              "      <td>1020</td>\n",
              "      <td>37.0</td>\n",
              "      <td>10</td>\n",
              "      <td>6</td>\n",
              "      <td>5</td>\n",
              "      <td>NaN</td>\n",
              "      <td>NaN</td>\n",
              "      <td>NaN</td>\n",
              "      <td>NaN</td>\n",
              "      <td>4.0</td>\n",
              "      <td>predicted values</td>\n",
              "    </tr>\n",
              "    <tr>\n",
              "      <th>31</th>\n",
              "      <td>2018-02-01</td>\n",
              "      <td>8</td>\n",
              "      <td>3</td>\n",
              "      <td>17</td>\n",
              "      <td>4</td>\n",
              "      <td>8</td>\n",
              "      <td>4</td>\n",
              "      <td>0.2</td>\n",
              "      <td>81</td>\n",
              "      <td>10.000</td>\n",
              "      <td>1012</td>\n",
              "      <td>39.5</td>\n",
              "      <td>8</td>\n",
              "      <td>3</td>\n",
              "      <td>2</td>\n",
              "      <td>NaN</td>\n",
              "      <td>NaN</td>\n",
              "      <td>NaN</td>\n",
              "      <td>NaN</td>\n",
              "      <td>4.0</td>\n",
              "      <td>predicted values</td>\n",
              "    </tr>\n",
              "  </tbody>\n",
              "</table>\n",
              "</div>"
            ],
            "text/plain": [
              "          DATE  MAX_TEMPERATURE_C  ...  OPINION              FLAG\n",
              "18  2018-01-19                 10  ...      4.0  predicted values\n",
              "31  2018-02-01                  8  ...      4.0  predicted values\n",
              "\n",
              "[2 rows x 21 columns]"
            ]
          },
          "metadata": {
            "tags": []
          },
          "execution_count": 159
        }
      ]
    },
    {
      "cell_type": "code",
      "metadata": {
        "id": "LlH6t5hobZ77",
        "colab": {
          "base_uri": "https://localhost:8080/",
          "height": 299
        },
        "outputId": "3687260e-556b-4646-cf4d-eafde9fc5149"
      },
      "source": [
        "#we concatenate df_clean and df_nan\n",
        "\n",
        "df_complete = pd.concat([df_clean,df_nan], axis = 0)\n",
        "\n",
        "df_complete.head()"
      ],
      "execution_count": null,
      "outputs": [
        {
          "output_type": "execute_result",
          "data": {
            "text/html": [
              "<div>\n",
              "<style scoped>\n",
              "    .dataframe tbody tr th:only-of-type {\n",
              "        vertical-align: middle;\n",
              "    }\n",
              "\n",
              "    .dataframe tbody tr th {\n",
              "        vertical-align: top;\n",
              "    }\n",
              "\n",
              "    .dataframe thead th {\n",
              "        text-align: right;\n",
              "    }\n",
              "</style>\n",
              "<table border=\"1\" class=\"dataframe\">\n",
              "  <thead>\n",
              "    <tr style=\"text-align: right;\">\n",
              "      <th></th>\n",
              "      <th>DATE</th>\n",
              "      <th>MAX_TEMPERATURE_C</th>\n",
              "      <th>MIN_TEMPERATURE_C</th>\n",
              "      <th>WINDSPEED_MAX_KMH</th>\n",
              "      <th>TEMPERATURE_MORNING_C</th>\n",
              "      <th>TEMPERATURE_NOON_C</th>\n",
              "      <th>TEMPERATURE_EVENING_C</th>\n",
              "      <th>PRECIP_TOTAL_DAY_MM</th>\n",
              "      <th>HUMIDITY_MAX_PERCENT</th>\n",
              "      <th>VISIBILITY_AVG_KM</th>\n",
              "      <th>PRESSURE_MAX_MB</th>\n",
              "      <th>CLOUDCOVER_AVG_PERCENT</th>\n",
              "      <th>HEATINDEX_MAX_C</th>\n",
              "      <th>DEWPOINT_MAX_C</th>\n",
              "      <th>WINDTEMP_MAX_C</th>\n",
              "      <th>WEATHER_CODE_EVENING</th>\n",
              "      <th>TOTAL_SNOW_MM</th>\n",
              "      <th>UV_INDEX</th>\n",
              "      <th>SUNHOUR</th>\n",
              "      <th>OPINION</th>\n",
              "      <th>FLAG</th>\n",
              "    </tr>\n",
              "  </thead>\n",
              "  <tbody>\n",
              "    <tr>\n",
              "      <th>0</th>\n",
              "      <td>2018-01-01</td>\n",
              "      <td>12</td>\n",
              "      <td>8</td>\n",
              "      <td>61</td>\n",
              "      <td>9</td>\n",
              "      <td>11</td>\n",
              "      <td>8</td>\n",
              "      <td>8.9</td>\n",
              "      <td>79</td>\n",
              "      <td>9.500</td>\n",
              "      <td>1018</td>\n",
              "      <td>41.750</td>\n",
              "      <td>12</td>\n",
              "      <td>8</td>\n",
              "      <td>7</td>\n",
              "      <td>113.0</td>\n",
              "      <td>0.0</td>\n",
              "      <td>3.0</td>\n",
              "      <td>5.1</td>\n",
              "      <td>1.0</td>\n",
              "      <td>real values</td>\n",
              "    </tr>\n",
              "    <tr>\n",
              "      <th>1</th>\n",
              "      <td>2018-01-02</td>\n",
              "      <td>13</td>\n",
              "      <td>6</td>\n",
              "      <td>26</td>\n",
              "      <td>8</td>\n",
              "      <td>12</td>\n",
              "      <td>13</td>\n",
              "      <td>0.6</td>\n",
              "      <td>96</td>\n",
              "      <td>9.000</td>\n",
              "      <td>1020</td>\n",
              "      <td>87.875</td>\n",
              "      <td>13</td>\n",
              "      <td>12</td>\n",
              "      <td>6</td>\n",
              "      <td>122.0</td>\n",
              "      <td>0.0</td>\n",
              "      <td>3.0</td>\n",
              "      <td>3.3</td>\n",
              "      <td>1.0</td>\n",
              "      <td>real values</td>\n",
              "    </tr>\n",
              "    <tr>\n",
              "      <th>2</th>\n",
              "      <td>2018-01-03</td>\n",
              "      <td>15</td>\n",
              "      <td>10</td>\n",
              "      <td>40</td>\n",
              "      <td>11</td>\n",
              "      <td>12</td>\n",
              "      <td>10</td>\n",
              "      <td>5.5</td>\n",
              "      <td>82</td>\n",
              "      <td>8.500</td>\n",
              "      <td>1017</td>\n",
              "      <td>91.500</td>\n",
              "      <td>15</td>\n",
              "      <td>13</td>\n",
              "      <td>7</td>\n",
              "      <td>122.0</td>\n",
              "      <td>0.0</td>\n",
              "      <td>3.0</td>\n",
              "      <td>3.3</td>\n",
              "      <td>1.0</td>\n",
              "      <td>real values</td>\n",
              "    </tr>\n",
              "    <tr>\n",
              "      <th>3</th>\n",
              "      <td>2018-01-04</td>\n",
              "      <td>14</td>\n",
              "      <td>11</td>\n",
              "      <td>45</td>\n",
              "      <td>14</td>\n",
              "      <td>14</td>\n",
              "      <td>11</td>\n",
              "      <td>0.0</td>\n",
              "      <td>89</td>\n",
              "      <td>10.000</td>\n",
              "      <td>1011</td>\n",
              "      <td>90.125</td>\n",
              "      <td>14</td>\n",
              "      <td>12</td>\n",
              "      <td>10</td>\n",
              "      <td>116.0</td>\n",
              "      <td>0.0</td>\n",
              "      <td>3.0</td>\n",
              "      <td>3.3</td>\n",
              "      <td>1.0</td>\n",
              "      <td>real values</td>\n",
              "    </tr>\n",
              "    <tr>\n",
              "      <th>4</th>\n",
              "      <td>2018-01-05</td>\n",
              "      <td>12</td>\n",
              "      <td>7</td>\n",
              "      <td>21</td>\n",
              "      <td>10</td>\n",
              "      <td>11</td>\n",
              "      <td>8</td>\n",
              "      <td>1.5</td>\n",
              "      <td>85</td>\n",
              "      <td>9.875</td>\n",
              "      <td>1005</td>\n",
              "      <td>62.375</td>\n",
              "      <td>12</td>\n",
              "      <td>10</td>\n",
              "      <td>7</td>\n",
              "      <td>116.0</td>\n",
              "      <td>0.0</td>\n",
              "      <td>3.0</td>\n",
              "      <td>6.9</td>\n",
              "      <td>1.0</td>\n",
              "      <td>real values</td>\n",
              "    </tr>\n",
              "  </tbody>\n",
              "</table>\n",
              "</div>"
            ],
            "text/plain": [
              "         DATE  MAX_TEMPERATURE_C  ...  OPINION         FLAG\n",
              "0  2018-01-01                 12  ...      1.0  real values\n",
              "1  2018-01-02                 13  ...      1.0  real values\n",
              "2  2018-01-03                 15  ...      1.0  real values\n",
              "3  2018-01-04                 14  ...      1.0  real values\n",
              "4  2018-01-05                 12  ...      1.0  real values\n",
              "\n",
              "[5 rows x 21 columns]"
            ]
          },
          "metadata": {
            "tags": []
          },
          "execution_count": 160
        }
      ]
    },
    {
      "cell_type": "code",
      "metadata": {
        "id": "z_ytoA1tb8_5",
        "colab": {
          "base_uri": "https://localhost:8080/"
        },
        "outputId": "41cb969b-8861-446c-e181-2051ff78cd32"
      },
      "source": [
        "#we check the shape\n",
        "df_complete.shape"
      ],
      "execution_count": null,
      "outputs": [
        {
          "output_type": "execute_result",
          "data": {
            "text/plain": [
              "(365, 21)"
            ]
          },
          "metadata": {
            "tags": []
          },
          "execution_count": 161
        }
      ]
    },
    {
      "cell_type": "code",
      "metadata": {
        "id": "R_hpO9Zyc3ax",
        "colab": {
          "base_uri": "https://localhost:8080/"
        },
        "outputId": "8e8624ce-129d-4c01-a6b9-08df5c540784"
      },
      "source": [
        "#we check the counts for OPINION columns\n",
        "print(df_complete['OPINION'].value_counts())"
      ],
      "execution_count": null,
      "outputs": [
        {
          "output_type": "stream",
          "text": [
            "3.0    91\n",
            "0.0    82\n",
            "1.0    79\n",
            "2.0    68\n",
            "4.0    45\n",
            "Name: OPINION, dtype: int64\n"
          ],
          "name": "stdout"
        }
      ]
    },
    {
      "cell_type": "code",
      "metadata": {
        "id": "USTmsgZacByw",
        "colab": {
          "base_uri": "https://localhost:8080/"
        },
        "outputId": "62aff6f7-0fc3-4dad-d508-57d1d6e674fd"
      },
      "source": [
        "#we replace the integers by strings in OPINION\n",
        "df_complete['OPINION'] = df_complete['OPINION'].apply(lambda x: 'very bad' if x == 0 else ('bad' if x == 1 else ('not good not bad' if x == 2 else ('good' if x == 3 else 'very good' ))))\n",
        "\n",
        "#we check if it worked\n",
        "print(df_complete['OPINION'].value_counts())\n",
        "print(df_complete['OPINION'].isna().sum())"
      ],
      "execution_count": null,
      "outputs": [
        {
          "output_type": "stream",
          "text": [
            "good                91\n",
            "very bad            82\n",
            "bad                 79\n",
            "not good not bad    68\n",
            "very good           45\n",
            "Name: OPINION, dtype: int64\n",
            "0\n"
          ],
          "name": "stdout"
        }
      ]
    },
    {
      "cell_type": "code",
      "metadata": {
        "id": "sfZoM0uZeZDP",
        "colab": {
          "base_uri": "https://localhost:8080/",
          "height": 299
        },
        "outputId": "120e856a-694f-4916-9751-d44dc8266eec"
      },
      "source": [
        "df_complete.head()"
      ],
      "execution_count": null,
      "outputs": [
        {
          "output_type": "execute_result",
          "data": {
            "text/html": [
              "<div>\n",
              "<style scoped>\n",
              "    .dataframe tbody tr th:only-of-type {\n",
              "        vertical-align: middle;\n",
              "    }\n",
              "\n",
              "    .dataframe tbody tr th {\n",
              "        vertical-align: top;\n",
              "    }\n",
              "\n",
              "    .dataframe thead th {\n",
              "        text-align: right;\n",
              "    }\n",
              "</style>\n",
              "<table border=\"1\" class=\"dataframe\">\n",
              "  <thead>\n",
              "    <tr style=\"text-align: right;\">\n",
              "      <th></th>\n",
              "      <th>DATE</th>\n",
              "      <th>MAX_TEMPERATURE_C</th>\n",
              "      <th>MIN_TEMPERATURE_C</th>\n",
              "      <th>WINDSPEED_MAX_KMH</th>\n",
              "      <th>TEMPERATURE_MORNING_C</th>\n",
              "      <th>TEMPERATURE_NOON_C</th>\n",
              "      <th>TEMPERATURE_EVENING_C</th>\n",
              "      <th>PRECIP_TOTAL_DAY_MM</th>\n",
              "      <th>HUMIDITY_MAX_PERCENT</th>\n",
              "      <th>VISIBILITY_AVG_KM</th>\n",
              "      <th>PRESSURE_MAX_MB</th>\n",
              "      <th>CLOUDCOVER_AVG_PERCENT</th>\n",
              "      <th>HEATINDEX_MAX_C</th>\n",
              "      <th>DEWPOINT_MAX_C</th>\n",
              "      <th>WINDTEMP_MAX_C</th>\n",
              "      <th>WEATHER_CODE_EVENING</th>\n",
              "      <th>TOTAL_SNOW_MM</th>\n",
              "      <th>UV_INDEX</th>\n",
              "      <th>SUNHOUR</th>\n",
              "      <th>OPINION</th>\n",
              "      <th>FLAG</th>\n",
              "    </tr>\n",
              "  </thead>\n",
              "  <tbody>\n",
              "    <tr>\n",
              "      <th>0</th>\n",
              "      <td>2018-01-01</td>\n",
              "      <td>12</td>\n",
              "      <td>8</td>\n",
              "      <td>61</td>\n",
              "      <td>9</td>\n",
              "      <td>11</td>\n",
              "      <td>8</td>\n",
              "      <td>8.9</td>\n",
              "      <td>79</td>\n",
              "      <td>9.500</td>\n",
              "      <td>1018</td>\n",
              "      <td>41.750</td>\n",
              "      <td>12</td>\n",
              "      <td>8</td>\n",
              "      <td>7</td>\n",
              "      <td>113.0</td>\n",
              "      <td>0.0</td>\n",
              "      <td>3.0</td>\n",
              "      <td>5.1</td>\n",
              "      <td>bad</td>\n",
              "      <td>real values</td>\n",
              "    </tr>\n",
              "    <tr>\n",
              "      <th>1</th>\n",
              "      <td>2018-01-02</td>\n",
              "      <td>13</td>\n",
              "      <td>6</td>\n",
              "      <td>26</td>\n",
              "      <td>8</td>\n",
              "      <td>12</td>\n",
              "      <td>13</td>\n",
              "      <td>0.6</td>\n",
              "      <td>96</td>\n",
              "      <td>9.000</td>\n",
              "      <td>1020</td>\n",
              "      <td>87.875</td>\n",
              "      <td>13</td>\n",
              "      <td>12</td>\n",
              "      <td>6</td>\n",
              "      <td>122.0</td>\n",
              "      <td>0.0</td>\n",
              "      <td>3.0</td>\n",
              "      <td>3.3</td>\n",
              "      <td>bad</td>\n",
              "      <td>real values</td>\n",
              "    </tr>\n",
              "    <tr>\n",
              "      <th>2</th>\n",
              "      <td>2018-01-03</td>\n",
              "      <td>15</td>\n",
              "      <td>10</td>\n",
              "      <td>40</td>\n",
              "      <td>11</td>\n",
              "      <td>12</td>\n",
              "      <td>10</td>\n",
              "      <td>5.5</td>\n",
              "      <td>82</td>\n",
              "      <td>8.500</td>\n",
              "      <td>1017</td>\n",
              "      <td>91.500</td>\n",
              "      <td>15</td>\n",
              "      <td>13</td>\n",
              "      <td>7</td>\n",
              "      <td>122.0</td>\n",
              "      <td>0.0</td>\n",
              "      <td>3.0</td>\n",
              "      <td>3.3</td>\n",
              "      <td>bad</td>\n",
              "      <td>real values</td>\n",
              "    </tr>\n",
              "    <tr>\n",
              "      <th>3</th>\n",
              "      <td>2018-01-04</td>\n",
              "      <td>14</td>\n",
              "      <td>11</td>\n",
              "      <td>45</td>\n",
              "      <td>14</td>\n",
              "      <td>14</td>\n",
              "      <td>11</td>\n",
              "      <td>0.0</td>\n",
              "      <td>89</td>\n",
              "      <td>10.000</td>\n",
              "      <td>1011</td>\n",
              "      <td>90.125</td>\n",
              "      <td>14</td>\n",
              "      <td>12</td>\n",
              "      <td>10</td>\n",
              "      <td>116.0</td>\n",
              "      <td>0.0</td>\n",
              "      <td>3.0</td>\n",
              "      <td>3.3</td>\n",
              "      <td>bad</td>\n",
              "      <td>real values</td>\n",
              "    </tr>\n",
              "    <tr>\n",
              "      <th>4</th>\n",
              "      <td>2018-01-05</td>\n",
              "      <td>12</td>\n",
              "      <td>7</td>\n",
              "      <td>21</td>\n",
              "      <td>10</td>\n",
              "      <td>11</td>\n",
              "      <td>8</td>\n",
              "      <td>1.5</td>\n",
              "      <td>85</td>\n",
              "      <td>9.875</td>\n",
              "      <td>1005</td>\n",
              "      <td>62.375</td>\n",
              "      <td>12</td>\n",
              "      <td>10</td>\n",
              "      <td>7</td>\n",
              "      <td>116.0</td>\n",
              "      <td>0.0</td>\n",
              "      <td>3.0</td>\n",
              "      <td>6.9</td>\n",
              "      <td>bad</td>\n",
              "      <td>real values</td>\n",
              "    </tr>\n",
              "  </tbody>\n",
              "</table>\n",
              "</div>"
            ],
            "text/plain": [
              "         DATE  MAX_TEMPERATURE_C  ...  OPINION         FLAG\n",
              "0  2018-01-01                 12  ...      bad  real values\n",
              "1  2018-01-02                 13  ...      bad  real values\n",
              "2  2018-01-03                 15  ...      bad  real values\n",
              "3  2018-01-04                 14  ...      bad  real values\n",
              "4  2018-01-05                 12  ...      bad  real values\n",
              "\n",
              "[5 rows x 21 columns]"
            ]
          },
          "metadata": {
            "tags": []
          },
          "execution_count": 164
        }
      ]
    },
    {
      "cell_type": "code",
      "metadata": {
        "id": "RZICBdnnev_e",
        "colab": {
          "base_uri": "https://localhost:8080/",
          "height": 297
        },
        "outputId": "97e72979-6ba4-4dca-e3ab-bc2dbc5c06b7"
      },
      "source": [
        "#we turn Date column into datetime\n",
        "df_complete['DATE'] = pd.to_datetime(df_complete['DATE'])\n",
        "\n",
        "#we plot the MAX_TEMPERATURE_C with a hue FLAG to see the opinion that have been predicted\n",
        "sns.scatterplot(x = 'MAX_TEMPERATURE_C', y= 'OPINION', hue = 'FLAG', data = df_complete )"
      ],
      "execution_count": null,
      "outputs": [
        {
          "output_type": "execute_result",
          "data": {
            "text/plain": [
              "<matplotlib.axes._subplots.AxesSubplot at 0x7f3bc866e518>"
            ]
          },
          "metadata": {
            "tags": []
          },
          "execution_count": 182
        },
        {
          "output_type": "display_data",
          "data": {
            "image/png": "[encoded data removed]",
            "text/plain": [
              "<Figure size 432x288 with 1 Axes>"
            ]
          },
          "metadata": {
            "tags": [],
            "needs_background": "light"
          }
        }
      ]
    }
  ]
}